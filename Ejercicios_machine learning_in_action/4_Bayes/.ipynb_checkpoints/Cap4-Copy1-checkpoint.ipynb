{
 "cells": [
  {
   "cell_type": "markdown",
   "metadata": {
    "collapsed": true,
    "deletable": true,
    "editable": true
   },
   "source": [
    "# TRANSFORMAR TEXTO EN UN VECTOR"
   ]
  },
  {
   "cell_type": "code",
   "execution_count": 18,
   "metadata": {
    "collapsed": true,
    "deletable": true,
    "editable": true
   },
   "outputs": [],
   "source": [
    "import bayes\n"
   ]
  },
  {
   "cell_type": "code",
   "execution_count": 20,
   "metadata": {
    "collapsed": true,
    "deletable": true,
    "editable": true
   },
   "outputs": [],
   "source": [
    "listOPosts,listClasses = bayes.loadDataSet()\n"
   ]
  },
  {
   "cell_type": "code",
   "execution_count": 21,
   "metadata": {
    "collapsed": true,
    "deletable": true,
    "editable": true
   },
   "outputs": [],
   "source": [
    "myVocabList = bayes.createVocabList(listOPosts)\n"
   ]
  },
  {
   "cell_type": "code",
   "execution_count": 22,
   "metadata": {
    "collapsed": false,
    "deletable": true,
    "editable": true
   },
   "outputs": [
    {
     "data": {
      "text/plain": [
       "['quit',\n",
       " 'problems',\n",
       " 'not',\n",
       " 'licks',\n",
       " 'please',\n",
       " 'I',\n",
       " 'cute',\n",
       " 'help',\n",
       " 'love',\n",
       " 'garbage',\n",
       " 'food',\n",
       " 'park',\n",
       " 'my',\n",
       " 'is',\n",
       " 'take',\n",
       " 'maybe',\n",
       " 'stop',\n",
       " 'buying',\n",
       " 'ate',\n",
       " 'him',\n",
       " 'has',\n",
       " 'dalmation',\n",
       " 'worthless',\n",
       " 'how',\n",
       " 'stupid',\n",
       " 'steak',\n",
       " 'so',\n",
       " 'dog',\n",
       " 'mr',\n",
       " 'flea',\n",
       " 'posting',\n",
       " 'to']"
      ]
     },
     "execution_count": 22,
     "metadata": {},
     "output_type": "execute_result"
    }
   ],
   "source": [
    "#vocabulario\n",
    "myVocabList\n"
   ]
  },
  {
   "cell_type": "code",
   "execution_count": 6,
   "metadata": {
    "collapsed": false,
    "deletable": true,
    "editable": true
   },
   "outputs": [
    {
     "data": {
      "text/plain": [
       "[0,\n",
       " 0,\n",
       " 0,\n",
       " 1,\n",
       " 1,\n",
       " 0,\n",
       " 0,\n",
       " 1,\n",
       " 0,\n",
       " 0,\n",
       " 0,\n",
       " 0,\n",
       " 0,\n",
       " 0,\n",
       " 0,\n",
       " 0,\n",
       " 0,\n",
       " 1,\n",
       " 0,\n",
       " 0,\n",
       " 1,\n",
       " 0,\n",
       " 1,\n",
       " 0,\n",
       " 0,\n",
       " 0,\n",
       " 0,\n",
       " 0,\n",
       " 0,\n",
       " 0,\n",
       " 1,\n",
       " 0]"
      ]
     },
     "execution_count": 6,
     "metadata": {},
     "output_type": "execute_result"
    }
   ],
   "source": [
    "#vector que nos dice si una palabra esta o no en el primer documento.\n",
    "#1 si la palabra está, 0 si no está\n",
    "bayes.setOfWords2Vec(myVocabList, listOPosts[0])\n"
   ]
  },
  {
   "cell_type": "code",
   "execution_count": 7,
   "metadata": {
    "collapsed": false,
    "deletable": true,
    "editable": true
   },
   "outputs": [
    {
     "data": {
      "text/plain": [
       "[0,\n",
       " 0,\n",
       " 0,\n",
       " 0,\n",
       " 0,\n",
       " 0,\n",
       " 0,\n",
       " 0,\n",
       " 0,\n",
       " 1,\n",
       " 0,\n",
       " 1,\n",
       " 0,\n",
       " 1,\n",
       " 0,\n",
       " 0,\n",
       " 0,\n",
       " 0,\n",
       " 0,\n",
       " 1,\n",
       " 0,\n",
       " 0,\n",
       " 0,\n",
       " 0,\n",
       " 0,\n",
       " 0,\n",
       " 0,\n",
       " 0,\n",
       " 0,\n",
       " 1,\n",
       " 0,\n",
       " 0]"
      ]
     },
     "execution_count": 7,
     "metadata": {},
     "output_type": "execute_result"
    }
   ],
   "source": [
    "bayes.setOfWords2Vec(myVocabList, listOPosts[3])\n"
   ]
  },
  {
   "cell_type": "code",
   "execution_count": 8,
   "metadata": {
    "collapsed": true,
    "deletable": true,
    "editable": true
   },
   "outputs": [],
   "source": [
    "#Cálculo de probabilidades a partir de vectores de palabras."
   ]
  },
  {
   "cell_type": "code",
   "execution_count": 9,
   "metadata": {
    "collapsed": true,
    "deletable": true,
    "editable": true
   },
   "outputs": [],
   "source": [
    "listOPosts,listClasses = bayes.loadDataSet()\n"
   ]
  },
  {
   "cell_type": "code",
   "execution_count": 10,
   "metadata": {
    "collapsed": true,
    "deletable": true,
    "editable": true
   },
   "outputs": [],
   "source": [
    "myVocabList = bayes.createVocabList(listOPosts)\n"
   ]
  },
  {
   "cell_type": "code",
   "execution_count": 12,
   "metadata": {
    "collapsed": true,
    "deletable": true,
    "editable": true
   },
   "outputs": [],
   "source": [
    "trainMat=[]\n"
   ]
  },
  {
   "cell_type": "code",
   "execution_count": 13,
   "metadata": {
    "collapsed": false,
    "deletable": true,
    "editable": true
   },
   "outputs": [],
   "source": [
    "for postinDoc in listOPosts:\n",
    "    trainMat.append(bayes.setOfWords2Vec(myVocabList, postinDoc))\n",
    "\n"
   ]
  },
  {
   "cell_type": "code",
   "execution_count": 14,
   "metadata": {
    "collapsed": true,
    "deletable": true,
    "editable": true
   },
   "outputs": [],
   "source": [
    "p0V,p1V,pAb=bayes.trainNB0(trainMat,listClasses)\n"
   ]
  },
  {
   "cell_type": "code",
   "execution_count": 15,
   "metadata": {
    "collapsed": false,
    "deletable": true,
    "editable": true
   },
   "outputs": [
    {
     "data": {
      "text/plain": [
       "0.5"
      ]
     },
     "execution_count": 15,
     "metadata": {},
     "output_type": "execute_result"
    }
   ],
   "source": [
    "pAb\n"
   ]
  },
  {
   "cell_type": "code",
   "execution_count": 16,
   "metadata": {
    "collapsed": false,
    "deletable": true,
    "editable": true
   },
   "outputs": [
    {
     "data": {
      "text/plain": [
       "array([-2.56494936, -3.25809654, -3.25809654, -2.56494936, -2.56494936,\n",
       "       -2.56494936, -3.25809654, -2.56494936, -3.25809654, -2.56494936,\n",
       "       -2.56494936, -3.25809654, -2.56494936, -3.25809654, -3.25809654,\n",
       "       -3.25809654, -2.56494936, -2.56494936, -2.56494936, -3.25809654,\n",
       "       -2.56494936, -2.56494936, -2.56494936, -2.15948425, -2.56494936,\n",
       "       -2.56494936, -2.56494936, -3.25809654, -2.56494936, -3.25809654,\n",
       "       -1.87180218, -2.56494936])"
      ]
     },
     "execution_count": 16,
     "metadata": {},
     "output_type": "execute_result"
    }
   ],
   "source": [
    "p0V\n"
   ]
  },
  {
   "cell_type": "code",
   "execution_count": 20,
   "metadata": {
    "collapsed": false,
    "deletable": true,
    "editable": true
   },
   "outputs": [
    {
     "data": {
      "text/plain": [
       "array([-1.94591015, -2.35137526, -3.04452244, -2.35137526, -2.35137526,\n",
       "       -2.35137526, -3.04452244, -3.04452244, -3.04452244, -3.04452244,\n",
       "       -3.04452244, -3.04452244, -2.35137526, -3.04452244, -2.35137526,\n",
       "       -3.04452244, -2.35137526, -3.04452244, -2.35137526, -3.04452244,\n",
       "       -3.04452244, -3.04452244, -2.35137526, -3.04452244, -3.04452244,\n",
       "       -2.35137526, -3.04452244, -1.65822808, -2.35137526, -2.35137526,\n",
       "       -3.04452244, -1.94591015])"
      ]
     },
     "execution_count": 20,
     "metadata": {},
     "output_type": "execute_result"
    }
   ],
   "source": [
    "p1V\n"
   ]
  },
  {
   "cell_type": "code",
   "execution_count": 14,
   "metadata": {
    "collapsed": false,
    "deletable": true,
    "editable": true
   },
   "outputs": [
    {
     "name": "stdout",
     "output_type": "stream",
     "text": [
      "['love', 'my', 'dalmation'] classified as:  0\n",
      "['stupid', 'garbage'] classified as:  1\n"
     ]
    }
   ],
   "source": [
    "bayes.testingNB()\n"
   ]
  },
  {
   "cell_type": "code",
   "execution_count": 1,
   "metadata": {
    "collapsed": true,
    "deletable": true,
    "editable": true
   },
   "outputs": [],
   "source": [
    "mySent='This book is the best book on Python or M.L. I have ever laid eyes upon.'\n",
    "\n"
   ]
  },
  {
   "cell_type": "code",
   "execution_count": 2,
   "metadata": {
    "collapsed": false,
    "deletable": true,
    "editable": true
   },
   "outputs": [
    {
     "data": {
      "text/plain": [
       "['This',\n",
       " 'book',\n",
       " 'is',\n",
       " 'the',\n",
       " 'best',\n",
       " 'book',\n",
       " 'on',\n",
       " 'Python',\n",
       " 'or',\n",
       " 'M.L.',\n",
       " 'I',\n",
       " 'have',\n",
       " 'ever',\n",
       " 'laid',\n",
       " 'eyes',\n",
       " 'upon.']"
      ]
     },
     "execution_count": 2,
     "metadata": {},
     "output_type": "execute_result"
    }
   ],
   "source": [
    "mySent.split()\n"
   ]
  },
  {
   "cell_type": "code",
   "execution_count": 8,
   "metadata": {
    "collapsed": false,
    "deletable": true,
    "editable": true
   },
   "outputs": [],
   "source": [
    "import re\n",
    "\n"
   ]
  },
  {
   "cell_type": "code",
   "execution_count": 9,
   "metadata": {
    "collapsed": true,
    "deletable": true,
    "editable": true
   },
   "outputs": [],
   "source": [
    "regEx = re.compile('\\\\W*')\n"
   ]
  },
  {
   "cell_type": "code",
   "execution_count": 10,
   "metadata": {
    "collapsed": false,
    "deletable": true,
    "editable": true
   },
   "outputs": [
    {
     "name": "stderr",
     "output_type": "stream",
     "text": [
      "/usr/local/lib/python3.5/site-packages/ipykernel_launcher.py:1: FutureWarning: split() requires a non-empty pattern match.\n",
      "  \"\"\"Entry point for launching an IPython kernel.\n"
     ]
    }
   ],
   "source": [
    "listOfTokens = regEx.split(mySent)\n"
   ]
  },
  {
   "cell_type": "code",
   "execution_count": 6,
   "metadata": {
    "collapsed": false,
    "deletable": true,
    "editable": true
   },
   "outputs": [
    {
     "data": {
      "text/plain": [
       "['This',\n",
       " 'book',\n",
       " 'is',\n",
       " 'the',\n",
       " 'best',\n",
       " 'book',\n",
       " 'on',\n",
       " 'Python',\n",
       " 'or',\n",
       " 'M',\n",
       " 'L',\n",
       " 'I',\n",
       " 'have',\n",
       " 'ever',\n",
       " 'laid',\n",
       " 'eyes',\n",
       " 'upon',\n",
       " '']"
      ]
     },
     "execution_count": 6,
     "metadata": {},
     "output_type": "execute_result"
    }
   ],
   "source": [
    "listOfTokens\n"
   ]
  },
  {
   "cell_type": "code",
   "execution_count": 7,
   "metadata": {
    "collapsed": false,
    "deletable": true,
    "editable": true
   },
   "outputs": [
    {
     "data": {
      "text/plain": [
       "['This',\n",
       " 'book',\n",
       " 'is',\n",
       " 'the',\n",
       " 'best',\n",
       " 'book',\n",
       " 'on',\n",
       " 'Python',\n",
       " 'or',\n",
       " 'M',\n",
       " 'L',\n",
       " 'I',\n",
       " 'have',\n",
       " 'ever',\n",
       " 'laid',\n",
       " 'eyes',\n",
       " 'upon']"
      ]
     },
     "execution_count": 7,
     "metadata": {},
     "output_type": "execute_result"
    }
   ],
   "source": [
    "[tok for tok in listOfTokens if len(tok) > 0]\n"
   ]
  },
  {
   "cell_type": "code",
   "execution_count": 8,
   "metadata": {
    "collapsed": false,
    "deletable": true,
    "editable": true
   },
   "outputs": [
    {
     "data": {
      "text/plain": [
       "['this',\n",
       " 'book',\n",
       " 'is',\n",
       " 'the',\n",
       " 'best',\n",
       " 'book',\n",
       " 'on',\n",
       " 'python',\n",
       " 'or',\n",
       " 'm',\n",
       " 'l',\n",
       " 'i',\n",
       " 'have',\n",
       " 'ever',\n",
       " 'laid',\n",
       " 'eyes',\n",
       " 'upon']"
      ]
     },
     "execution_count": 8,
     "metadata": {},
     "output_type": "execute_result"
    }
   ],
   "source": [
    "[tok.lower() for tok in listOfTokens if len(tok) > 0]\n"
   ]
  },
  {
   "cell_type": "code",
   "execution_count": 9,
   "metadata": {
    "collapsed": false,
    "deletable": true,
    "editable": true
   },
   "outputs": [],
   "source": [
    "emailText = open('email/ham/6.txt', encoding = \"ISO-8859-1\").read()\n"
   ]
  },
  {
   "cell_type": "code",
   "execution_count": 10,
   "metadata": {
    "collapsed": false,
    "deletable": true,
    "editable": true
   },
   "outputs": [
    {
     "name": "stderr",
     "output_type": "stream",
     "text": [
      "/usr/local/lib/python3.5/site-packages/ipykernel_launcher.py:1: FutureWarning: split() requires a non-empty pattern match.\n",
      "  \"\"\"Entry point for launching an IPython kernel.\n"
     ]
    }
   ],
   "source": [
    "listOfTokens=regEx.split(emailText)\n"
   ]
  },
  {
   "cell_type": "code",
   "execution_count": 29,
   "metadata": {
    "collapsed": false,
    "deletable": true,
    "editable": true,
    "scrolled": true
   },
   "outputs": [
    {
     "name": "stderr",
     "output_type": "stream",
     "text": [
      "/usr/local/lib/python3.5/re.py:203: FutureWarning: split() requires a non-empty pattern match.\n",
      "  return _compile(pattern, flags).split(string, maxsplit)\n"
     ]
    },
    {
     "ename": "TypeError",
     "evalue": "'range' object doesn't support item deletion",
     "output_type": "error",
     "traceback": [
      "\u001b[1;31m---------------------------------------------------------------------------\u001b[0m",
      "\u001b[1;31mTypeError\u001b[0m                                 Traceback (most recent call last)",
      "\u001b[1;32m<ipython-input-29-cd56b8e8917e>\u001b[0m in \u001b[0;36m<module>\u001b[1;34m()\u001b[0m\n\u001b[1;32m----> 1\u001b[1;33m \u001b[0mbayes\u001b[0m\u001b[1;33m.\u001b[0m\u001b[0mspamTest\u001b[0m\u001b[1;33m(\u001b[0m\u001b[1;33m)\u001b[0m\u001b[1;33m\u001b[0m\u001b[0m\n\u001b[0m",
      "\u001b[1;32m/home/hadoop/Ollin/Ejercicios machine learning in action/Ch04/bayes.py\u001b[0m in \u001b[0;36mspamTest\u001b[1;34m()\u001b[0m\n\u001b[0;32m     98\u001b[0m         \u001b[0mrandIndex\u001b[0m \u001b[1;33m=\u001b[0m \u001b[0mint\u001b[0m\u001b[1;33m(\u001b[0m\u001b[0mrandom\u001b[0m\u001b[1;33m.\u001b[0m\u001b[0muniform\u001b[0m\u001b[1;33m(\u001b[0m\u001b[1;36m0\u001b[0m\u001b[1;33m,\u001b[0m\u001b[0mlen\u001b[0m\u001b[1;33m(\u001b[0m\u001b[0mtrainingSet\u001b[0m\u001b[1;33m)\u001b[0m\u001b[1;33m)\u001b[0m\u001b[1;33m)\u001b[0m\u001b[1;33m\u001b[0m\u001b[0m\n\u001b[0;32m     99\u001b[0m         \u001b[0mtestSet\u001b[0m\u001b[1;33m.\u001b[0m\u001b[0mappend\u001b[0m\u001b[1;33m(\u001b[0m\u001b[0mtrainingSet\u001b[0m\u001b[1;33m[\u001b[0m\u001b[0mrandIndex\u001b[0m\u001b[1;33m]\u001b[0m\u001b[1;33m)\u001b[0m\u001b[1;33m\u001b[0m\u001b[0m\n\u001b[1;32m--> 100\u001b[1;33m         \u001b[1;32mdel\u001b[0m\u001b[1;33m(\u001b[0m\u001b[0mtrainingSet\u001b[0m\u001b[1;33m[\u001b[0m\u001b[0mrandIndex\u001b[0m\u001b[1;33m]\u001b[0m\u001b[1;33m)\u001b[0m\u001b[1;33m\u001b[0m\u001b[0m\n\u001b[0m\u001b[0;32m    101\u001b[0m     \u001b[0mtrainMat\u001b[0m\u001b[1;33m=\u001b[0m\u001b[1;33m[\u001b[0m\u001b[1;33m]\u001b[0m\u001b[1;33m;\u001b[0m \u001b[0mtrainClasses\u001b[0m \u001b[1;33m=\u001b[0m \u001b[1;33m[\u001b[0m\u001b[1;33m]\u001b[0m\u001b[1;33m\u001b[0m\u001b[0m\n\u001b[0;32m    102\u001b[0m     \u001b[1;32mfor\u001b[0m \u001b[0mdocIndex\u001b[0m \u001b[1;32min\u001b[0m \u001b[0mtrainingSet\u001b[0m\u001b[1;33m:\u001b[0m\u001b[1;31m#train the classifier (get probs) trainNB0\u001b[0m\u001b[1;33m\u001b[0m\u001b[0m\n",
      "\u001b[1;31mTypeError\u001b[0m: 'range' object doesn't support item deletion"
     ]
    }
   ],
   "source": [
    "bayes.spamTest()\n"
   ]
  },
  {
   "cell_type": "code",
   "execution_count": 11,
   "metadata": {
    "collapsed": false,
    "deletable": true,
    "editable": true
   },
   "outputs": [],
   "source": [
    "import feedparser\n"
   ]
  },
  {
   "cell_type": "code",
   "execution_count": 12,
   "metadata": {
    "collapsed": true,
    "deletable": true,
    "editable": true
   },
   "outputs": [],
   "source": [
    "ny=feedparser.parse('http://newyork.craigslist.org/stp/index.rss')\n"
   ]
  },
  {
   "cell_type": "code",
   "execution_count": 13,
   "metadata": {
    "collapsed": false,
    "deletable": true,
    "editable": true
   },
   "outputs": [
    {
     "data": {
      "text/plain": [
       "[{'dc_source': 'http://newyork.craigslist.org/mnh/stp/6276512662.html',\n",
       "  'dc_type': 'text',\n",
       "  'id': 'http://newyork.craigslist.org/mnh/stp/6276512662.html',\n",
       "  'language': 'en-us',\n",
       "  'link': 'http://newyork.craigslist.org/mnh/stp/6276512662.html',\n",
       "  'links': [{'href': 'http://newyork.craigslist.org/mnh/stp/6276512662.html',\n",
       "    'rel': 'alternate',\n",
       "    'type': 'text/html'}],\n",
       "  'published': '2017-08-23T11:01:42-04:00',\n",
       "  'published_parsed': time.struct_time(tm_year=2017, tm_mon=8, tm_mday=23, tm_hour=15, tm_min=1, tm_sec=42, tm_wday=2, tm_yday=235, tm_isdst=0),\n",
       "  'rights': 'copyright 2017 craiglist',\n",
       "  'rights_detail': {'base': 'https://newyork.craigslist.org/search/stp?format=rss',\n",
       "   'language': None,\n",
       "   'type': 'text/plain',\n",
       "   'value': 'copyright 2017 craiglist'},\n",
       "  'summary': 'So I am 40, I am attached though it would be nice to make a new friend. Most of my female friends have moved away gotten married and have kids etc. I would love to make a new friend, lunch buddy, drinking buddy just hang out laugh a lot. Major plus i ...',\n",
       "  'summary_detail': {'base': 'https://newyork.craigslist.org/search/stp?format=rss',\n",
       "   'language': None,\n",
       "   'type': 'text/html',\n",
       "   'value': 'So I am 40, I am attached though it would be nice to make a new friend. Most of my female friends have moved away gotten married and have kids etc. I would love to make a new friend, lunch buddy, drinking buddy just hang out laugh a lot. Major plus i ...'},\n",
       "  'title': 'New friend wanted, female metal head where are you? - m4w (Union Square)',\n",
       "  'title_detail': {'base': 'https://newyork.craigslist.org/search/stp?format=rss',\n",
       "   'language': None,\n",
       "   'type': 'text/plain',\n",
       "   'value': 'New friend wanted, female metal head where are you? - m4w (Union Square)'},\n",
       "  'updated': '2017-08-23T11:01:42-04:00',\n",
       "  'updated_parsed': time.struct_time(tm_year=2017, tm_mon=8, tm_mday=23, tm_hour=15, tm_min=1, tm_sec=42, tm_wday=2, tm_yday=235, tm_isdst=0)},\n",
       " {'dc_source': 'http://newyork.craigslist.org/mnh/stp/6276511777.html',\n",
       "  'dc_type': 'text',\n",
       "  'id': 'http://newyork.craigslist.org/mnh/stp/6276511777.html',\n",
       "  'language': 'en-us',\n",
       "  'link': 'http://newyork.craigslist.org/mnh/stp/6276511777.html',\n",
       "  'links': [{'href': 'http://newyork.craigslist.org/mnh/stp/6276511777.html',\n",
       "    'rel': 'alternate',\n",
       "    'type': 'text/html'}],\n",
       "  'published': '2017-08-23T11:01:15-04:00',\n",
       "  'published_parsed': time.struct_time(tm_year=2017, tm_mon=8, tm_mday=23, tm_hour=15, tm_min=1, tm_sec=15, tm_wday=2, tm_yday=235, tm_isdst=0),\n",
       "  'rights': 'copyright 2017 craiglist',\n",
       "  'rights_detail': {'base': 'https://newyork.craigslist.org/search/stp?format=rss',\n",
       "   'language': None,\n",
       "   'type': 'text/plain',\n",
       "   'value': 'copyright 2017 craiglist'},\n",
       "  'summary': 'looking for guys that would be into nude figure drawing \\ncan take turns drawing / posing \\nnothing major no expectations here \\ni suck at figure drawing but enjoy it, would like to practice \\n41 very tall muscular hairy bald white guy in midtown on the  ...',\n",
       "  'summary_detail': {'base': 'https://newyork.craigslist.org/search/stp?format=rss',\n",
       "   'language': None,\n",
       "   'type': 'text/html',\n",
       "   'value': 'looking for guys that would be into nude figure drawing \\ncan take turns drawing / posing \\nnothing major no expectations here \\ni suck at figure drawing but enjoy it, would like to practice \\n41 very tall muscular hairy bald white guy in midtown on the  ...'},\n",
       "  'title': 'figure draw / sketch - dudes - m4m (Midtown West)',\n",
       "  'title_detail': {'base': 'https://newyork.craigslist.org/search/stp?format=rss',\n",
       "   'language': None,\n",
       "   'type': 'text/plain',\n",
       "   'value': 'figure draw / sketch - dudes - m4m (Midtown West)'},\n",
       "  'updated': '2017-08-23T11:01:15-04:00',\n",
       "  'updated_parsed': time.struct_time(tm_year=2017, tm_mon=8, tm_mday=23, tm_hour=15, tm_min=1, tm_sec=15, tm_wday=2, tm_yday=235, tm_isdst=0)},\n",
       " {'dc_source': 'http://newyork.craigslist.org/mnh/stp/6264585640.html',\n",
       "  'dc_type': 'text',\n",
       "  'id': 'http://newyork.craigslist.org/mnh/stp/6264585640.html',\n",
       "  'language': 'en-us',\n",
       "  'link': 'http://newyork.craigslist.org/mnh/stp/6264585640.html',\n",
       "  'links': [{'href': 'http://newyork.craigslist.org/mnh/stp/6264585640.html',\n",
       "    'rel': 'alternate',\n",
       "    'type': 'text/html'}],\n",
       "  'published': '2017-08-23T10:59:45-04:00',\n",
       "  'published_parsed': time.struct_time(tm_year=2017, tm_mon=8, tm_mday=23, tm_hour=14, tm_min=59, tm_sec=45, tm_wday=2, tm_yday=235, tm_isdst=0),\n",
       "  'rights': 'copyright 2017 craiglist',\n",
       "  'rights_detail': {'base': 'https://newyork.craigslist.org/search/stp?format=rss',\n",
       "   'language': None,\n",
       "   'type': 'text/plain',\n",
       "   'value': 'copyright 2017 craiglist'},\n",
       "  'summary': 'So first off...I got a girlfriend. I only dated white and spanish girls. But I just started to notice asian girls. So I dont want to cheat on my gf but i dont want to break up with her. But I would like to hang out and get to know a cool asian girl.  ...',\n",
       "  'summary_detail': {'base': 'https://newyork.craigslist.org/search/stp?format=rss',\n",
       "   'language': None,\n",
       "   'type': 'text/html',\n",
       "   'value': 'So first off...I got a girlfriend. I only dated white and spanish girls. But I just started to notice asian girls. So I dont want to cheat on my gf but i dont want to break up with her. But I would like to hang out and get to know a cool asian girl.  ...'},\n",
       "  'title': 'i like to talk to asian female m4w (Manhattan/Queens)',\n",
       "  'title_detail': {'base': 'https://newyork.craigslist.org/search/stp?format=rss',\n",
       "   'language': None,\n",
       "   'type': 'text/plain',\n",
       "   'value': 'i like to talk to asian female m4w (Manhattan/Queens)'},\n",
       "  'updated': '2017-08-23T10:59:45-04:00',\n",
       "  'updated_parsed': time.struct_time(tm_year=2017, tm_mon=8, tm_mday=23, tm_hour=14, tm_min=59, tm_sec=45, tm_wday=2, tm_yday=235, tm_isdst=0)},\n",
       " {'dc_source': 'http://newyork.craigslist.org/que/stp/6272919041.html',\n",
       "  'dc_type': 'text',\n",
       "  'id': 'http://newyork.craigslist.org/que/stp/6272919041.html',\n",
       "  'language': 'en-us',\n",
       "  'link': 'http://newyork.craigslist.org/que/stp/6272919041.html',\n",
       "  'links': [{'href': 'http://newyork.craigslist.org/que/stp/6272919041.html',\n",
       "    'rel': 'alternate',\n",
       "    'type': 'text/html'}],\n",
       "  'published': '2017-08-23T10:58:41-04:00',\n",
       "  'published_parsed': time.struct_time(tm_year=2017, tm_mon=8, tm_mday=23, tm_hour=14, tm_min=58, tm_sec=41, tm_wday=2, tm_yday=235, tm_isdst=0),\n",
       "  'rights': 'copyright 2017 craiglist',\n",
       "  'rights_detail': {'base': 'https://newyork.craigslist.org/search/stp?format=rss',\n",
       "   'language': None,\n",
       "   'type': 'text/plain',\n",
       "   'value': 'copyright 2017 craiglist'},\n",
       "  'summary': \"I'm an unattached male, late 40's, work in the flooring business... \\nI would like to chat to an interesting lady today \\nRace, religion or age is not an issue \\nIf we hit it off, you could come to me or I can come to you and have some oral fun for an h ...\",\n",
       "  'summary_detail': {'base': 'https://newyork.craigslist.org/search/stp?format=rss',\n",
       "   'language': None,\n",
       "   'type': 'text/html',\n",
       "   'value': \"I'm an unattached male, late 40's, work in the flooring business... \\nI would like to chat to an interesting lady today \\nRace, religion or age is not an issue \\nIf we hit it off, you could come to me or I can come to you and have some oral fun for an h ...\"},\n",
       "  'title': 'Interested In Chatting? - m4w (Queens)',\n",
       "  'title_detail': {'base': 'https://newyork.craigslist.org/search/stp?format=rss',\n",
       "   'language': None,\n",
       "   'type': 'text/plain',\n",
       "   'value': 'Interested In Chatting? - m4w (Queens)'},\n",
       "  'updated': '2017-08-23T10:58:41-04:00',\n",
       "  'updated_parsed': time.struct_time(tm_year=2017, tm_mon=8, tm_mday=23, tm_hour=14, tm_min=58, tm_sec=41, tm_wday=2, tm_yday=235, tm_isdst=0)},\n",
       " {'dc_source': 'http://newyork.craigslist.org/mnh/stp/6270975402.html',\n",
       "  'dc_type': 'text',\n",
       "  'id': 'http://newyork.craigslist.org/mnh/stp/6270975402.html',\n",
       "  'language': 'en-us',\n",
       "  'link': 'http://newyork.craigslist.org/mnh/stp/6270975402.html',\n",
       "  'links': [{'href': 'http://newyork.craigslist.org/mnh/stp/6270975402.html',\n",
       "    'rel': 'alternate',\n",
       "    'type': 'text/html'}],\n",
       "  'published': '2017-08-23T10:53:12-04:00',\n",
       "  'published_parsed': time.struct_time(tm_year=2017, tm_mon=8, tm_mday=23, tm_hour=14, tm_min=53, tm_sec=12, tm_wday=2, tm_yday=235, tm_isdst=0),\n",
       "  'rights': 'copyright 2017 craiglist',\n",
       "  'rights_detail': {'base': 'https://newyork.craigslist.org/search/stp?format=rss',\n",
       "   'language': None,\n",
       "   'type': 'text/plain',\n",
       "   'value': 'copyright 2017 craiglist'},\n",
       "  'summary': \"Seeking a true DAD/son relationship with a chill masculine blk brother \\nHi first upfont I have to tell you that I' deal with females \\nso if that is an issue for you then there's no point in your reading the rest... as for me besides being into female ...\",\n",
       "  'summary_detail': {'base': 'https://newyork.craigslist.org/search/stp?format=rss',\n",
       "   'language': None,\n",
       "   'type': 'text/html',\n",
       "   'value': \"Seeking a true DAD/son relationship with a chill masculine blk brother \\nHi first upfont I have to tell you that I' deal with females \\nso if that is an issue for you then there's no point in your reading the rest... as for me besides being into female ...\"},\n",
       "  'title': 'Seeking a true DAD/son relationship with a chill masculine blk brother - m4m (Harlem / Morningside)',\n",
       "  'title_detail': {'base': 'https://newyork.craigslist.org/search/stp?format=rss',\n",
       "   'language': None,\n",
       "   'type': 'text/plain',\n",
       "   'value': 'Seeking a true DAD/son relationship with a chill masculine blk brother - m4m (Harlem / Morningside)'},\n",
       "  'updated': '2017-08-23T10:53:12-04:00',\n",
       "  'updated_parsed': time.struct_time(tm_year=2017, tm_mon=8, tm_mday=23, tm_hour=14, tm_min=53, tm_sec=12, tm_wday=2, tm_yday=235, tm_isdst=0)},\n",
       " {'dc_source': 'http://newyork.craigslist.org/lgi/stp/6258516483.html',\n",
       "  'dc_type': 'text',\n",
       "  'id': 'http://newyork.craigslist.org/lgi/stp/6258516483.html',\n",
       "  'language': 'en-us',\n",
       "  'link': 'http://newyork.craigslist.org/lgi/stp/6258516483.html',\n",
       "  'links': [{'href': 'http://newyork.craigslist.org/lgi/stp/6258516483.html',\n",
       "    'rel': 'alternate',\n",
       "    'type': 'text/html'}],\n",
       "  'published': '2017-08-23T10:52:26-04:00',\n",
       "  'published_parsed': time.struct_time(tm_year=2017, tm_mon=8, tm_mday=23, tm_hour=14, tm_min=52, tm_sec=26, tm_wday=2, tm_yday=235, tm_isdst=0),\n",
       "  'rights': 'copyright 2017 craiglist',\n",
       "  'rights_detail': {'base': 'https://newyork.craigslist.org/search/stp?format=rss',\n",
       "   'language': None,\n",
       "   'type': 'text/plain',\n",
       "   'value': 'copyright 2017 craiglist'},\n",
       "  'summary': \"Hi there, \\nThis is not your average post in CL... If you are tense after work and you can't go to any spa or masseur because you are on budget this may be a great chance to: \\n- get a free massage \\n- make a new friend \\nI know this may sound like one d ...\",\n",
       "  'summary_detail': {'base': 'https://newyork.craigslist.org/search/stp?format=rss',\n",
       "   'language': None,\n",
       "   'type': 'text/html',\n",
       "   'value': \"Hi there, \\nThis is not your average post in CL... If you are tense after work and you can't go to any spa or masseur because you are on budget this may be a great chance to: \\n- get a free massage \\n- make a new friend \\nI know this may sound like one d ...\"},\n",
       "  'title': 'Massage and friendship... perfect combo! - m4w (Babylon)',\n",
       "  'title_detail': {'base': 'https://newyork.craigslist.org/search/stp?format=rss',\n",
       "   'language': None,\n",
       "   'type': 'text/plain',\n",
       "   'value': 'Massage and friendship... perfect combo! - m4w (Babylon)'},\n",
       "  'updated': '2017-08-23T10:52:26-04:00',\n",
       "  'updated_parsed': time.struct_time(tm_year=2017, tm_mon=8, tm_mday=23, tm_hour=14, tm_min=52, tm_sec=26, tm_wday=2, tm_yday=235, tm_isdst=0)},\n",
       " {'dc_source': 'http://newyork.craigslist.org/mnh/stp/6276481152.html',\n",
       "  'dc_type': 'text',\n",
       "  'id': 'http://newyork.craigslist.org/mnh/stp/6276481152.html',\n",
       "  'language': 'en-us',\n",
       "  'link': 'http://newyork.craigslist.org/mnh/stp/6276481152.html',\n",
       "  'links': [{'href': 'http://newyork.craigslist.org/mnh/stp/6276481152.html',\n",
       "    'rel': 'alternate',\n",
       "    'type': 'text/html'}],\n",
       "  'published': '2017-08-23T10:50:49-04:00',\n",
       "  'published_parsed': time.struct_time(tm_year=2017, tm_mon=8, tm_mday=23, tm_hour=14, tm_min=50, tm_sec=49, tm_wday=2, tm_yday=235, tm_isdst=0),\n",
       "  'rights': 'copyright 2017 craiglist',\n",
       "  'rights_detail': {'base': 'https://newyork.craigslist.org/search/stp?format=rss',\n",
       "   'language': None,\n",
       "   'type': 'text/plain',\n",
       "   'value': 'copyright 2017 craiglist'},\n",
       "  'summary': \"My family is away on a long trip and I'm in town on my own. Looking for someone to spend some quality time and develop a friendly sexual dynamic. \\nAbout me: 35, tall, white, average build, beard, glasses (a hipster dad vibe). If this is sounding like ...\",\n",
       "  'summary_detail': {'base': 'https://newyork.craigslist.org/search/stp?format=rss',\n",
       "   'language': None,\n",
       "   'type': 'text/html',\n",
       "   'value': \"My family is away on a long trip and I'm in town on my own. Looking for someone to spend some quality time and develop a friendly sexual dynamic. \\nAbout me: 35, tall, white, average build, beard, glasses (a hipster dad vibe). If this is sounding like ...\"},\n",
       "  'title': 'Married man on my own in town for the next few weeks - m4w (Downtown)',\n",
       "  'title_detail': {'base': 'https://newyork.craigslist.org/search/stp?format=rss',\n",
       "   'language': None,\n",
       "   'type': 'text/plain',\n",
       "   'value': 'Married man on my own in town for the next few weeks - m4w (Downtown)'},\n",
       "  'updated': '2017-08-23T10:50:49-04:00',\n",
       "  'updated_parsed': time.struct_time(tm_year=2017, tm_mon=8, tm_mday=23, tm_hour=14, tm_min=50, tm_sec=49, tm_wday=2, tm_yday=235, tm_isdst=0)},\n",
       " {'dc_source': 'http://newyork.craigslist.org/mnh/stp/6276438443.html',\n",
       "  'dc_type': 'text',\n",
       "  'id': 'http://newyork.craigslist.org/mnh/stp/6276438443.html',\n",
       "  'language': 'en-us',\n",
       "  'link': 'http://newyork.craigslist.org/mnh/stp/6276438443.html',\n",
       "  'links': [{'href': 'http://newyork.craigslist.org/mnh/stp/6276438443.html',\n",
       "    'rel': 'alternate',\n",
       "    'type': 'text/html'}],\n",
       "  'published': '2017-08-23T10:49:31-04:00',\n",
       "  'published_parsed': time.struct_time(tm_year=2017, tm_mon=8, tm_mday=23, tm_hour=14, tm_min=49, tm_sec=31, tm_wday=2, tm_yday=235, tm_isdst=0),\n",
       "  'rights': 'copyright 2017 craiglist',\n",
       "  'rights_detail': {'base': 'https://newyork.craigslist.org/search/stp?format=rss',\n",
       "   'language': None,\n",
       "   'type': 'text/plain',\n",
       "   'value': 'copyright 2017 craiglist'},\n",
       "  'summary': \"I'm a young, gay professional looking to make a little extra cash on the side after work. I'm available in the evenings starting at 6pm Monday through Friday and available on weekends. \\nI work in Chelsea and live in Midtown East; I'm willing to trave ...\",\n",
       "  'summary_detail': {'base': 'https://newyork.craigslist.org/search/stp?format=rss',\n",
       "   'language': None,\n",
       "   'type': 'text/html',\n",
       "   'value': \"I'm a young, gay professional looking to make a little extra cash on the side after work. I'm available in the evenings starting at 6pm Monday through Friday and available on weekends. \\nI work in Chelsea and live in Midtown East; I'm willing to trave ...\"},\n",
       "  'title': 'Dog Walker Available - m4m',\n",
       "  'title_detail': {'base': 'https://newyork.craigslist.org/search/stp?format=rss',\n",
       "   'language': None,\n",
       "   'type': 'text/plain',\n",
       "   'value': 'Dog Walker Available - m4m'},\n",
       "  'updated': '2017-08-23T10:49:31-04:00',\n",
       "  'updated_parsed': time.struct_time(tm_year=2017, tm_mon=8, tm_mday=23, tm_hour=14, tm_min=49, tm_sec=31, tm_wday=2, tm_yday=235, tm_isdst=0)},\n",
       " {'dc_source': 'http://newyork.craigslist.org/mnh/stp/6259924269.html',\n",
       "  'dc_type': 'text',\n",
       "  'id': 'http://newyork.craigslist.org/mnh/stp/6259924269.html',\n",
       "  'language': 'en-us',\n",
       "  'link': 'http://newyork.craigslist.org/mnh/stp/6259924269.html',\n",
       "  'links': [{'href': 'http://newyork.craigslist.org/mnh/stp/6259924269.html',\n",
       "    'rel': 'alternate',\n",
       "    'type': 'text/html'}],\n",
       "  'published': '2017-08-23T10:45:13-04:00',\n",
       "  'published_parsed': time.struct_time(tm_year=2017, tm_mon=8, tm_mday=23, tm_hour=14, tm_min=45, tm_sec=13, tm_wday=2, tm_yday=235, tm_isdst=0),\n",
       "  'rights': 'copyright 2017 craiglist',\n",
       "  'rights_detail': {'base': 'https://newyork.craigslist.org/search/stp?format=rss',\n",
       "   'language': None,\n",
       "   'type': 'text/plain',\n",
       "   'value': 'copyright 2017 craiglist'},\n",
       "  'summary': 'Neither one an angel? OK, so you didn\\'t marry the perfect human. But neither did (s)he. Need to reboot the relationship or \"clear the air\" about past misunderstandings? It \\'s not unusual. After justice has been served, forgive and forget. \\nSane, matu ...',\n",
       "  'summary_detail': {'base': 'https://newyork.craigslist.org/search/stp?format=rss',\n",
       "   'language': None,\n",
       "   'type': 'text/html',\n",
       "   'value': 'Neither one an angel? OK, so you didn\\'t marry the perfect human. But neither did (s)he. Need to reboot the relationship or \"clear the air\" about past misunderstandings? It \\'s not unusual. After justice has been served, forgive and forget. \\nSane, matu ...'},\n",
       "  'title': 'Spanking for Couples M/F M/M F/F - m4mw (Midtown)',\n",
       "  'title_detail': {'base': 'https://newyork.craigslist.org/search/stp?format=rss',\n",
       "   'language': None,\n",
       "   'type': 'text/plain',\n",
       "   'value': 'Spanking for Couples M/F M/M F/F - m4mw (Midtown)'},\n",
       "  'updated': '2017-08-23T10:45:13-04:00',\n",
       "  'updated_parsed': time.struct_time(tm_year=2017, tm_mon=8, tm_mday=23, tm_hour=14, tm_min=45, tm_sec=13, tm_wday=2, tm_yday=235, tm_isdst=0)},\n",
       " {'dc_source': 'http://newyork.craigslist.org/mnh/stp/6256606457.html',\n",
       "  'dc_type': 'text',\n",
       "  'id': 'http://newyork.craigslist.org/mnh/stp/6256606457.html',\n",
       "  'language': 'en-us',\n",
       "  'link': 'http://newyork.craigslist.org/mnh/stp/6256606457.html',\n",
       "  'links': [{'href': 'http://newyork.craigslist.org/mnh/stp/6256606457.html',\n",
       "    'rel': 'alternate',\n",
       "    'type': 'text/html'}],\n",
       "  'published': '2017-08-23T10:45:10-04:00',\n",
       "  'published_parsed': time.struct_time(tm_year=2017, tm_mon=8, tm_mday=23, tm_hour=14, tm_min=45, tm_sec=10, tm_wday=2, tm_yday=235, tm_isdst=0),\n",
       "  'rights': 'copyright 2017 craiglist',\n",
       "  'rights_detail': {'base': 'https://newyork.craigslist.org/search/stp?format=rss',\n",
       "   'language': None,\n",
       "   'type': 'text/plain',\n",
       "   'value': 'copyright 2017 craiglist'},\n",
       "  'summary': 'Dance salsa on2 with me if you\\'re a beginner or intermediate female. I dance socially almost every week. \\nI\\'m an intermediate on2 salsa dancer with about 4 years of salsa experience. I\\'m 6\\'5\", athletic build and in excellent shape. Your height doesn\\' ...',\n",
       "  'summary_detail': {'base': 'https://newyork.craigslist.org/search/stp?format=rss',\n",
       "   'language': None,\n",
       "   'type': 'text/html',\n",
       "   'value': 'Dance salsa on2 with me if you\\'re a beginner or intermediate female. I dance socially almost every week. \\nI\\'m an intermediate on2 salsa dancer with about 4 years of salsa experience. I\\'m 6\\'5\", athletic build and in excellent shape. Your height doesn\\' ...'},\n",
       "  'title': 'Salsa Dance Partner (@ clubs) - m4w (Manhattan or Brooklyn)',\n",
       "  'title_detail': {'base': 'https://newyork.craigslist.org/search/stp?format=rss',\n",
       "   'language': None,\n",
       "   'type': 'text/plain',\n",
       "   'value': 'Salsa Dance Partner (@ clubs) - m4w (Manhattan or Brooklyn)'},\n",
       "  'updated': '2017-08-23T10:45:10-04:00',\n",
       "  'updated_parsed': time.struct_time(tm_year=2017, tm_mon=8, tm_mday=23, tm_hour=14, tm_min=45, tm_sec=10, tm_wday=2, tm_yday=235, tm_isdst=0)},\n",
       " {'dc_source': 'http://newyork.craigslist.org/jsy/stp/6276482506.html',\n",
       "  'dc_type': 'text',\n",
       "  'id': 'http://newyork.craigslist.org/jsy/stp/6276482506.html',\n",
       "  'language': 'en-us',\n",
       "  'link': 'http://newyork.craigslist.org/jsy/stp/6276482506.html',\n",
       "  'links': [{'href': 'http://newyork.craigslist.org/jsy/stp/6276482506.html',\n",
       "    'rel': 'alternate',\n",
       "    'type': 'text/html'}],\n",
       "  'published': '2017-08-23T10:42:42-04:00',\n",
       "  'published_parsed': time.struct_time(tm_year=2017, tm_mon=8, tm_mday=23, tm_hour=14, tm_min=42, tm_sec=42, tm_wday=2, tm_yday=235, tm_isdst=0),\n",
       "  'rights': 'copyright 2017 craiglist',\n",
       "  'rights_detail': {'base': 'https://newyork.craigslist.org/search/stp?format=rss',\n",
       "   'language': None,\n",
       "   'type': 'text/plain',\n",
       "   'value': 'copyright 2017 craiglist'},\n",
       "  'summary': \"gonna make this short and simple. I've run into really hard times and am trying to sell pics and vids of myself. hmu if interested.\",\n",
       "  'summary_detail': {'base': 'https://newyork.craigslist.org/search/stp?format=rss',\n",
       "   'language': None,\n",
       "   'type': 'text/html',\n",
       "   'value': \"gonna make this short and simple. I've run into really hard times and am trying to sell pics and vids of myself. hmu if interested.\"},\n",
       "  'title': 'plain and simple. - w4m',\n",
       "  'title_detail': {'base': 'https://newyork.craigslist.org/search/stp?format=rss',\n",
       "   'language': None,\n",
       "   'type': 'text/plain',\n",
       "   'value': 'plain and simple. - w4m'},\n",
       "  'updated': '2017-08-23T10:42:42-04:00',\n",
       "  'updated_parsed': time.struct_time(tm_year=2017, tm_mon=8, tm_mday=23, tm_hour=14, tm_min=42, tm_sec=42, tm_wday=2, tm_yday=235, tm_isdst=0)},\n",
       " {'dc_source': 'http://newyork.craigslist.org/brk/stp/6276479541.html',\n",
       "  'dc_type': 'text',\n",
       "  'id': 'http://newyork.craigslist.org/brk/stp/6276479541.html',\n",
       "  'language': 'en-us',\n",
       "  'link': 'http://newyork.craigslist.org/brk/stp/6276479541.html',\n",
       "  'links': [{'href': 'http://newyork.craigslist.org/brk/stp/6276479541.html',\n",
       "    'rel': 'alternate',\n",
       "    'type': 'text/html'}],\n",
       "  'published': '2017-08-23T10:40:57-04:00',\n",
       "  'published_parsed': time.struct_time(tm_year=2017, tm_mon=8, tm_mday=23, tm_hour=14, tm_min=40, tm_sec=57, tm_wday=2, tm_yday=235, tm_isdst=0),\n",
       "  'rights': 'copyright 2017 craiglist',\n",
       "  'rights_detail': {'base': 'https://newyork.craigslist.org/search/stp?format=rss',\n",
       "   'language': None,\n",
       "   'type': 'text/plain',\n",
       "   'value': 'copyright 2017 craiglist'},\n",
       "  'summary': \"Hello guys I am very experienced and childcare I know it's that season where its going back to school back to work and childcare is definitely hard I'm 35 live in a good neighborhood very experienced with children and child care especially with kids  ...\",\n",
       "  'summary_detail': {'base': 'https://newyork.craigslist.org/search/stp?format=rss',\n",
       "   'language': None,\n",
       "   'type': 'text/html',\n",
       "   'value': \"Hello guys I am very experienced and childcare I know it's that season where its going back to school back to work and childcare is definitely hard I'm 35 live in a good neighborhood very experienced with children and child care especially with kids  ...\"},\n",
       "  'title': 'Do Need a reliable babysitter click here for more info👩\\u200d - w4w (Brooklyn)',\n",
       "  'title_detail': {'base': 'https://newyork.craigslist.org/search/stp?format=rss',\n",
       "   'language': None,\n",
       "   'type': 'text/plain',\n",
       "   'value': 'Do Need a reliable babysitter click here for more info👩\\u200d - w4w (Brooklyn)'},\n",
       "  'updated': '2017-08-23T10:40:57-04:00',\n",
       "  'updated_parsed': time.struct_time(tm_year=2017, tm_mon=8, tm_mday=23, tm_hour=14, tm_min=40, tm_sec=57, tm_wday=2, tm_yday=235, tm_isdst=0)},\n",
       " {'dc_source': 'http://newyork.craigslist.org/mnh/stp/6239139685.html',\n",
       "  'dc_type': 'text',\n",
       "  'enc_enclosure': {'resource': 'https://images.craigslist.org/00707_iMt2Op68Q3N_300x300.jpg',\n",
       "   'type': 'image/jpeg'},\n",
       "  'id': 'http://newyork.craigslist.org/mnh/stp/6239139685.html',\n",
       "  'language': 'en-us',\n",
       "  'link': 'http://newyork.craigslist.org/mnh/stp/6239139685.html',\n",
       "  'links': [{'href': 'http://newyork.craigslist.org/mnh/stp/6239139685.html',\n",
       "    'rel': 'alternate',\n",
       "    'type': 'text/html'}],\n",
       "  'published': '2017-08-23T10:35:18-04:00',\n",
       "  'published_parsed': time.struct_time(tm_year=2017, tm_mon=8, tm_mday=23, tm_hour=14, tm_min=35, tm_sec=18, tm_wday=2, tm_yday=235, tm_isdst=0),\n",
       "  'rights': 'copyright 2017 craiglist',\n",
       "  'rights_detail': {'base': 'https://newyork.craigslist.org/search/stp?format=rss',\n",
       "   'language': None,\n",
       "   'type': 'text/plain',\n",
       "   'value': 'copyright 2017 craiglist'},\n",
       "  'summary': \"Looking for Commitment - Let's Get Married!!! \\nDon't Spend Another Day as a Single Woman! \\nLet's see what we can do about that! \\nI'm NOT looking for a one night'er or a fling, but rather a meaningful relationship. \\nBased on Openness, Trust and Honest ...\",\n",
       "  'summary_detail': {'base': 'https://newyork.craigslist.org/search/stp?format=rss',\n",
       "   'language': None,\n",
       "   'type': 'text/html',\n",
       "   'value': \"Looking for Commitment - Let's Get Married!!! \\nDon't Spend Another Day as a Single Woman! \\nLet's see what we can do about that! \\nI'm NOT looking for a one night'er or a fling, but rather a meaningful relationship. \\nBased on Openness, Trust and Honest ...\"},\n",
       "  'title': \"Don't let ICE Deport You - Greencard - Stay in USA - m4w (Midtown)\",\n",
       "  'title_detail': {'base': 'https://newyork.craigslist.org/search/stp?format=rss',\n",
       "   'language': None,\n",
       "   'type': 'text/plain',\n",
       "   'value': \"Don't let ICE Deport You - Greencard - Stay in USA - m4w (Midtown)\"},\n",
       "  'updated': '2017-08-23T10:35:18-04:00',\n",
       "  'updated_parsed': time.struct_time(tm_year=2017, tm_mon=8, tm_mday=23, tm_hour=14, tm_min=35, tm_sec=18, tm_wday=2, tm_yday=235, tm_isdst=0)},\n",
       " {'dc_source': 'http://newyork.craigslist.org/mnh/stp/6239248056.html',\n",
       "  'dc_type': 'text',\n",
       "  'enc_enclosure': {'resource': 'https://images.craigslist.org/00707_iMt2Op68Q3N_300x300.jpg',\n",
       "   'type': 'image/jpeg'},\n",
       "  'id': 'http://newyork.craigslist.org/mnh/stp/6239248056.html',\n",
       "  'language': 'en-us',\n",
       "  'link': 'http://newyork.craigslist.org/mnh/stp/6239248056.html',\n",
       "  'links': [{'href': 'http://newyork.craigslist.org/mnh/stp/6239248056.html',\n",
       "    'rel': 'alternate',\n",
       "    'type': 'text/html'}],\n",
       "  'published': '2017-08-23T10:35:10-04:00',\n",
       "  'published_parsed': time.struct_time(tm_year=2017, tm_mon=8, tm_mday=23, tm_hour=14, tm_min=35, tm_sec=10, tm_wday=2, tm_yday=235, tm_isdst=0),\n",
       "  'rights': 'copyright 2017 craiglist',\n",
       "  'rights_detail': {'base': 'https://newyork.craigslist.org/search/stp?format=rss',\n",
       "   'language': None,\n",
       "   'type': 'text/plain',\n",
       "   'value': 'copyright 2017 craiglist'},\n",
       "  'summary': \"Looking for Commitment - Let's Get Married!!! \\nDon't Spend Another Day as a Single Woman! \\nLet's see what we can do about that! \\nI'm NOT looking for a one night'er or a fling, but rather a meaningful relationship. \\nBased on Openness, Trust and Honest ...\",\n",
       "  'summary_detail': {'base': 'https://newyork.craigslist.org/search/stp?format=rss',\n",
       "   'language': None,\n",
       "   'type': 'text/html',\n",
       "   'value': \"Looking for Commitment - Let's Get Married!!! \\nDon't Spend Another Day as a Single Woman! \\nLet's see what we can do about that! \\nI'm NOT looking for a one night'er or a fling, but rather a meaningful relationship. \\nBased on Openness, Trust and Honest ...\"},\n",
       "  'title': \"Don't let ICE Deport You - Greencard - Stay in USA - m4w (Midtown)\",\n",
       "  'title_detail': {'base': 'https://newyork.craigslist.org/search/stp?format=rss',\n",
       "   'language': None,\n",
       "   'type': 'text/plain',\n",
       "   'value': \"Don't let ICE Deport You - Greencard - Stay in USA - m4w (Midtown)\"},\n",
       "  'updated': '2017-08-23T10:35:10-04:00',\n",
       "  'updated_parsed': time.struct_time(tm_year=2017, tm_mon=8, tm_mday=23, tm_hour=14, tm_min=35, tm_sec=10, tm_wday=2, tm_yday=235, tm_isdst=0)},\n",
       " {'dc_source': 'http://newyork.craigslist.org/mnh/stp/6276445823.html',\n",
       "  'dc_type': 'text',\n",
       "  'enc_enclosure': {'resource': 'https://images.craigslist.org/01212_3LC2y63pDE7_300x300.jpg',\n",
       "   'type': 'image/jpeg'},\n",
       "  'id': 'http://newyork.craigslist.org/mnh/stp/6276445823.html',\n",
       "  'language': 'en-us',\n",
       "  'link': 'http://newyork.craigslist.org/mnh/stp/6276445823.html',\n",
       "  'links': [{'href': 'http://newyork.craigslist.org/mnh/stp/6276445823.html',\n",
       "    'rel': 'alternate',\n",
       "    'type': 'text/html'}],\n",
       "  'published': '2017-08-23T10:33:18-04:00',\n",
       "  'published_parsed': time.struct_time(tm_year=2017, tm_mon=8, tm_mday=23, tm_hour=14, tm_min=33, tm_sec=18, tm_wday=2, tm_yday=235, tm_isdst=0),\n",
       "  'rights': 'copyright 2017 craiglist',\n",
       "  'rights_detail': {'base': 'https://newyork.craigslist.org/search/stp?format=rss',\n",
       "   'language': None,\n",
       "   'type': 'text/plain',\n",
       "   'value': 'copyright 2017 craiglist'},\n",
       "  'summary': 'Are your feet your best feature? Do you get complimented on your feet. You pamper them, keep them soft and smooth, you paint your nails all kinds of colors to make them look good and get noticed. You know your feet look great. You wear sexy shoes tha ...',\n",
       "  'summary_detail': {'base': 'https://newyork.craigslist.org/search/stp?format=rss',\n",
       "   'language': None,\n",
       "   'type': 'text/html',\n",
       "   'value': 'Are your feet your best feature? Do you get complimented on your feet. You pamper them, keep them soft and smooth, you paint your nails all kinds of colors to make them look good and get noticed. You know your feet look great. You wear sexy shoes tha ...'},\n",
       "  'title': \"Nice Feet? Let's Meet! - m4w (Midtown East)\",\n",
       "  'title_detail': {'base': 'https://newyork.craigslist.org/search/stp?format=rss',\n",
       "   'language': None,\n",
       "   'type': 'text/plain',\n",
       "   'value': \"Nice Feet? Let's Meet! - m4w (Midtown East)\"},\n",
       "  'updated': '2017-08-23T10:33:18-04:00',\n",
       "  'updated_parsed': time.struct_time(tm_year=2017, tm_mon=8, tm_mday=23, tm_hour=14, tm_min=33, tm_sec=18, tm_wday=2, tm_yday=235, tm_isdst=0)},\n",
       " {'dc_source': 'http://newyork.craigslist.org/brx/stp/6276460905.html',\n",
       "  'dc_type': 'text',\n",
       "  'id': 'http://newyork.craigslist.org/brx/stp/6276460905.html',\n",
       "  'language': 'en-us',\n",
       "  'link': 'http://newyork.craigslist.org/brx/stp/6276460905.html',\n",
       "  'links': [{'href': 'http://newyork.craigslist.org/brx/stp/6276460905.html',\n",
       "    'rel': 'alternate',\n",
       "    'type': 'text/html'}],\n",
       "  'published': '2017-08-23T10:29:22-04:00',\n",
       "  'published_parsed': time.struct_time(tm_year=2017, tm_mon=8, tm_mday=23, tm_hour=14, tm_min=29, tm_sec=22, tm_wday=2, tm_yday=235, tm_isdst=0),\n",
       "  'rights': 'copyright 2017 craiglist',\n",
       "  'rights_detail': {'base': 'https://newyork.craigslist.org/search/stp?format=rss',\n",
       "   'language': None,\n",
       "   'type': 'text/plain',\n",
       "   'value': 'copyright 2017 craiglist'},\n",
       "  'summary': 'Hello Queens &#128081;&#128081;&#128081; \\nI am running two specials please reply to my ad if interested in either. \\n$25 mani and pedi in a beautiful laid back salon&#128133;&#128133;&#128133;&#128133; \\n$20 for a full set with gel polish \\n***Cant Beat ...',\n",
       "  'summary_detail': {'base': 'https://newyork.craigslist.org/search/stp?format=rss',\n",
       "   'language': None,\n",
       "   'type': 'text/html',\n",
       "   'value': 'Hello Queens &#128081;&#128081;&#128081; \\nI am running two specials please reply to my ad if interested in either. \\n$25 mani and pedi in a beautiful laid back salon&#128133;&#128133;&#128133;&#128133; \\n$20 for a full set with gel polish \\n***Cant Beat ...'},\n",
       "  'title': '$25 mani/pedi $20 full sets with gel - w4w (Bronx)',\n",
       "  'title_detail': {'base': 'https://newyork.craigslist.org/search/stp?format=rss',\n",
       "   'language': None,\n",
       "   'type': 'text/plain',\n",
       "   'value': '$25 mani/pedi $20 full sets with gel - w4w (Bronx)'},\n",
       "  'updated': '2017-08-23T10:29:22-04:00',\n",
       "  'updated_parsed': time.struct_time(tm_year=2017, tm_mon=8, tm_mday=23, tm_hour=14, tm_min=29, tm_sec=22, tm_wday=2, tm_yday=235, tm_isdst=0)},\n",
       " {'dc_source': 'http://newyork.craigslist.org/brk/stp/6267923535.html',\n",
       "  'dc_type': 'text',\n",
       "  'id': 'http://newyork.craigslist.org/brk/stp/6267923535.html',\n",
       "  'language': 'en-us',\n",
       "  'link': 'http://newyork.craigslist.org/brk/stp/6267923535.html',\n",
       "  'links': [{'href': 'http://newyork.craigslist.org/brk/stp/6267923535.html',\n",
       "    'rel': 'alternate',\n",
       "    'type': 'text/html'}],\n",
       "  'published': '2017-08-23T10:26:15-04:00',\n",
       "  'published_parsed': time.struct_time(tm_year=2017, tm_mon=8, tm_mday=23, tm_hour=14, tm_min=26, tm_sec=15, tm_wday=2, tm_yday=235, tm_isdst=0),\n",
       "  'rights': 'copyright 2017 craiglist',\n",
       "  'rights_detail': {'base': 'https://newyork.craigslist.org/search/stp?format=rss',\n",
       "   'language': None,\n",
       "   'type': 'text/plain',\n",
       "   'value': 'copyright 2017 craiglist'},\n",
       "  'summary': \"Looking for a fun girl to spend a few hours with. We have some fun, and you leave with a bouquet. \\n31, mixed, very clean, set, oral. I'm attached so this must be discreet. \\nChange the subject to fun so I know you're real.\",\n",
       "  'summary_detail': {'base': 'https://newyork.craigslist.org/search/stp?format=rss',\n",
       "   'language': None,\n",
       "   'type': 'text/html',\n",
       "   'value': \"Looking for a fun girl to spend a few hours with. We have some fun, and you leave with a bouquet. \\n31, mixed, very clean, set, oral. I'm attached so this must be discreet. \\nChange the subject to fun so I know you're real.\"},\n",
       "  'title': \"Asian or Latina for 'roses' - m4w (Brooklyn)\",\n",
       "  'title_detail': {'base': 'https://newyork.craigslist.org/search/stp?format=rss',\n",
       "   'language': None,\n",
       "   'type': 'text/plain',\n",
       "   'value': \"Asian or Latina for 'roses' - m4w (Brooklyn)\"},\n",
       "  'updated': '2017-08-23T10:26:15-04:00',\n",
       "  'updated_parsed': time.struct_time(tm_year=2017, tm_mon=8, tm_mday=23, tm_hour=14, tm_min=26, tm_sec=15, tm_wday=2, tm_yday=235, tm_isdst=0)},\n",
       " {'dc_source': 'http://newyork.craigslist.org/mnh/stp/6235768446.html',\n",
       "  'dc_type': 'text',\n",
       "  'enc_enclosure': {'resource': 'https://images.craigslist.org/00c0c_iEkgaXT6Upj_300x300.jpg',\n",
       "   'type': 'image/jpeg'},\n",
       "  'id': 'http://newyork.craigslist.org/mnh/stp/6235768446.html',\n",
       "  'language': 'en-us',\n",
       "  'link': 'http://newyork.craigslist.org/mnh/stp/6235768446.html',\n",
       "  'links': [{'href': 'http://newyork.craigslist.org/mnh/stp/6235768446.html',\n",
       "    'rel': 'alternate',\n",
       "    'type': 'text/html'}],\n",
       "  'published': '2017-08-23T10:24:13-04:00',\n",
       "  'published_parsed': time.struct_time(tm_year=2017, tm_mon=8, tm_mday=23, tm_hour=14, tm_min=24, tm_sec=13, tm_wday=2, tm_yday=235, tm_isdst=0),\n",
       "  'rights': 'copyright 2017 craiglist',\n",
       "  'rights_detail': {'base': 'https://newyork.craigslist.org/search/stp?format=rss',\n",
       "   'language': None,\n",
       "   'type': 'text/plain',\n",
       "   'value': 'copyright 2017 craiglist'},\n",
       "  'summary': 'more pics and details for yours. i work from home downtown near soho. fit good looking swm.',\n",
       "  'summary_detail': {'base': 'https://newyork.craigslist.org/search/stp?format=rss',\n",
       "   'language': None,\n",
       "   'type': 'text/html',\n",
       "   'value': 'more pics and details for yours. i work from home downtown near soho. fit good looking swm.'},\n",
       "  'title': 'seeking new college friend for summer fun - m4w (Nolita / Bowery)',\n",
       "  'title_detail': {'base': 'https://newyork.craigslist.org/search/stp?format=rss',\n",
       "   'language': None,\n",
       "   'type': 'text/plain',\n",
       "   'value': 'seeking new college friend for summer fun - m4w (Nolita / Bowery)'},\n",
       "  'updated': '2017-08-23T10:24:13-04:00',\n",
       "  'updated_parsed': time.struct_time(tm_year=2017, tm_mon=8, tm_mday=23, tm_hour=14, tm_min=24, tm_sec=13, tm_wday=2, tm_yday=235, tm_isdst=0)},\n",
       " {'dc_source': 'http://newyork.craigslist.org/mnh/stp/6249570764.html',\n",
       "  'dc_type': 'text',\n",
       "  'id': 'http://newyork.craigslist.org/mnh/stp/6249570764.html',\n",
       "  'language': 'en-us',\n",
       "  'link': 'http://newyork.craigslist.org/mnh/stp/6249570764.html',\n",
       "  'links': [{'href': 'http://newyork.craigslist.org/mnh/stp/6249570764.html',\n",
       "    'rel': 'alternate',\n",
       "    'type': 'text/html'}],\n",
       "  'published': '2017-08-23T10:23:43-04:00',\n",
       "  'published_parsed': time.struct_time(tm_year=2017, tm_mon=8, tm_mday=23, tm_hour=14, tm_min=23, tm_sec=43, tm_wday=2, tm_yday=235, tm_isdst=0),\n",
       "  'rights': 'copyright 2017 craiglist',\n",
       "  'rights_detail': {'base': 'https://newyork.craigslist.org/search/stp?format=rss',\n",
       "   'language': None,\n",
       "   'type': 'text/plain',\n",
       "   'value': 'copyright 2017 craiglist'},\n",
       "  'summary': \"As the title says, it's just a little slow here today and I've pretty much surfed as many webpages I can. So now I find myself on craigslist looking for someone to chat with. Unfortunately I didnt see any particular posts looking for the same thing,  ...\",\n",
       "  'summary_detail': {'base': 'https://newyork.craigslist.org/search/stp?format=rss',\n",
       "   'language': None,\n",
       "   'type': 'text/html',\n",
       "   'value': \"As the title says, it's just a little slow here today and I've pretty much surfed as many webpages I can. So now I find myself on craigslist looking for someone to chat with. Unfortunately I didnt see any particular posts looking for the same thing,  ...\"},\n",
       "  'title': 'Slow day in the office... anyone care to chat? - m4w (Midtown)',\n",
       "  'title_detail': {'base': 'https://newyork.craigslist.org/search/stp?format=rss',\n",
       "   'language': None,\n",
       "   'type': 'text/plain',\n",
       "   'value': 'Slow day in the office... anyone care to chat? - m4w (Midtown)'},\n",
       "  'updated': '2017-08-23T10:23:43-04:00',\n",
       "  'updated_parsed': time.struct_time(tm_year=2017, tm_mon=8, tm_mday=23, tm_hour=14, tm_min=23, tm_sec=43, tm_wday=2, tm_yday=235, tm_isdst=0)},\n",
       " {'dc_source': 'http://newyork.craigslist.org/brk/stp/6276437840.html',\n",
       "  'dc_type': 'text',\n",
       "  'enc_enclosure': {'resource': 'https://images.craigslist.org/00i0i_9iA9OxwtgW0_300x300.jpg',\n",
       "   'type': 'image/jpeg'},\n",
       "  'id': 'http://newyork.craigslist.org/brk/stp/6276437840.html',\n",
       "  'language': 'en-us',\n",
       "  'link': 'http://newyork.craigslist.org/brk/stp/6276437840.html',\n",
       "  'links': [{'href': 'http://newyork.craigslist.org/brk/stp/6276437840.html',\n",
       "    'rel': 'alternate',\n",
       "    'type': 'text/html'}],\n",
       "  'published': '2017-08-23T10:14:13-04:00',\n",
       "  'published_parsed': time.struct_time(tm_year=2017, tm_mon=8, tm_mday=23, tm_hour=14, tm_min=14, tm_sec=13, tm_wday=2, tm_yday=235, tm_isdst=0),\n",
       "  'rights': 'copyright 2017 craiglist',\n",
       "  'rights_detail': {'base': 'https://newyork.craigslist.org/search/stp?format=rss',\n",
       "   'language': None,\n",
       "   'type': 'text/plain',\n",
       "   'value': 'copyright 2017 craiglist'},\n",
       "  'summary': \"I used to go to clubs a few years back with an ex. Haven't been in a while and would love to check it out again. They are a lot of fun and safe...Are you curious? \\nSee \\nLet's talk\",\n",
       "  'summary_detail': {'base': 'https://newyork.craigslist.org/search/stp?format=rss',\n",
       "   'language': None,\n",
       "   'type': 'text/html',\n",
       "   'value': \"I used to go to clubs a few years back with an ex. Haven't been in a while and would love to check it out again. They are a lot of fun and safe...Are you curious? \\nSee \\nLet's talk\"},\n",
       "  'title': 'Swing club partner - m4w - m4w (Suffolk area)',\n",
       "  'title_detail': {'base': 'https://newyork.craigslist.org/search/stp?format=rss',\n",
       "   'language': None,\n",
       "   'type': 'text/plain',\n",
       "   'value': 'Swing club partner - m4w - m4w (Suffolk area)'},\n",
       "  'updated': '2017-08-23T10:14:13-04:00',\n",
       "  'updated_parsed': time.struct_time(tm_year=2017, tm_mon=8, tm_mday=23, tm_hour=14, tm_min=14, tm_sec=13, tm_wday=2, tm_yday=235, tm_isdst=0)},\n",
       " {'dc_source': 'http://newyork.craigslist.org/jsy/stp/6267844011.html',\n",
       "  'dc_type': 'text',\n",
       "  'enc_enclosure': {'resource': 'https://images.craigslist.org/00707_bILhgwWejb1_300x300.jpg',\n",
       "   'type': 'image/jpeg'},\n",
       "  'id': 'http://newyork.craigslist.org/jsy/stp/6267844011.html',\n",
       "  'language': 'en-us',\n",
       "  'link': 'http://newyork.craigslist.org/jsy/stp/6267844011.html',\n",
       "  'links': [{'href': 'http://newyork.craigslist.org/jsy/stp/6267844011.html',\n",
       "    'rel': 'alternate',\n",
       "    'type': 'text/html'}],\n",
       "  'published': '2017-08-23T10:11:25-04:00',\n",
       "  'published_parsed': time.struct_time(tm_year=2017, tm_mon=8, tm_mday=23, tm_hour=14, tm_min=11, tm_sec=25, tm_wday=2, tm_yday=235, tm_isdst=0),\n",
       "  'rights': 'copyright 2017 craiglist',\n",
       "  'rights_detail': {'base': 'https://newyork.craigslist.org/search/stp?format=rss',\n",
       "   'language': None,\n",
       "   'type': 'text/plain',\n",
       "   'value': 'copyright 2017 craiglist'},\n",
       "  'summary': \"brown eyes,brown skin,165 lbs,5'7,6 pack abs,passionate,romantic,35 years old,got my own apt,business owner,out going,own car. . . I am a good friend to all &amp; a good listener. I am very out going and like to go to places as in- beaches,parks,mall ...\",\n",
       "  'summary_detail': {'base': 'https://newyork.craigslist.org/search/stp?format=rss',\n",
       "   'language': None,\n",
       "   'type': 'text/html',\n",
       "   'value': \"brown eyes,brown skin,165 lbs,5'7,6 pack abs,passionate,romantic,35 years old,got my own apt,business owner,out going,own car. . . I am a good friend to all &amp; a good listener. I am very out going and like to go to places as in- beaches,parks,mall ...\"},\n",
       "  'title': '2017 Friends to enjoy life - m4w (new york city)',\n",
       "  'title_detail': {'base': 'https://newyork.craigslist.org/search/stp?format=rss',\n",
       "   'language': None,\n",
       "   'type': 'text/plain',\n",
       "   'value': '2017 Friends to enjoy life - m4w (new york city)'},\n",
       "  'updated': '2017-08-23T10:11:25-04:00',\n",
       "  'updated_parsed': time.struct_time(tm_year=2017, tm_mon=8, tm_mday=23, tm_hour=14, tm_min=11, tm_sec=25, tm_wday=2, tm_yday=235, tm_isdst=0)},\n",
       " {'dc_source': 'http://newyork.craigslist.org/jsy/stp/6267851135.html',\n",
       "  'dc_type': 'text',\n",
       "  'enc_enclosure': {'resource': 'https://images.craigslist.org/00707_bILhgwWejb1_300x300.jpg',\n",
       "   'type': 'image/jpeg'},\n",
       "  'id': 'http://newyork.craigslist.org/jsy/stp/6267851135.html',\n",
       "  'language': 'en-us',\n",
       "  'link': 'http://newyork.craigslist.org/jsy/stp/6267851135.html',\n",
       "  'links': [{'href': 'http://newyork.craigslist.org/jsy/stp/6267851135.html',\n",
       "    'rel': 'alternate',\n",
       "    'type': 'text/html'}],\n",
       "  'published': '2017-08-23T10:10:48-04:00',\n",
       "  'published_parsed': time.struct_time(tm_year=2017, tm_mon=8, tm_mday=23, tm_hour=14, tm_min=10, tm_sec=48, tm_wday=2, tm_yday=235, tm_isdst=0),\n",
       "  'rights': 'copyright 2017 craiglist',\n",
       "  'rights_detail': {'base': 'https://newyork.craigslist.org/search/stp?format=rss',\n",
       "   'language': None,\n",
       "   'type': 'text/plain',\n",
       "   'value': 'copyright 2017 craiglist'},\n",
       "  'summary': \"brown eyes,brown skin,165 lbs,5'7,6 pack abs,passionate,romantic,35 years old,got my own apt,business owner,out going,own car. . . I am a good friend to all &amp; a good listener. I am very out going and like to go to places as in- beaches,parks,mall ...\",\n",
       "  'summary_detail': {'base': 'https://newyork.craigslist.org/search/stp?format=rss',\n",
       "   'language': None,\n",
       "   'type': 'text/html',\n",
       "   'value': \"brown eyes,brown skin,165 lbs,5'7,6 pack abs,passionate,romantic,35 years old,got my own apt,business owner,out going,own car. . . I am a good friend to all &amp; a good listener. I am very out going and like to go to places as in- beaches,parks,mall ...\"},\n",
       "  'title': '2017 Friends to enjoy life - m4w (new york city)',\n",
       "  'title_detail': {'base': 'https://newyork.craigslist.org/search/stp?format=rss',\n",
       "   'language': None,\n",
       "   'type': 'text/plain',\n",
       "   'value': '2017 Friends to enjoy life - m4w (new york city)'},\n",
       "  'updated': '2017-08-23T10:10:48-04:00',\n",
       "  'updated_parsed': time.struct_time(tm_year=2017, tm_mon=8, tm_mday=23, tm_hour=14, tm_min=10, tm_sec=48, tm_wday=2, tm_yday=235, tm_isdst=0)},\n",
       " {'dc_source': 'http://newyork.craigslist.org/mnh/stp/6269285986.html',\n",
       "  'dc_type': 'text',\n",
       "  'enc_enclosure': {'resource': 'https://images.craigslist.org/00D0D_ks825ScRoKw_300x300.jpg',\n",
       "   'type': 'image/jpeg'},\n",
       "  'id': 'http://newyork.craigslist.org/mnh/stp/6269285986.html',\n",
       "  'language': 'en-us',\n",
       "  'link': 'http://newyork.craigslist.org/mnh/stp/6269285986.html',\n",
       "  'links': [{'href': 'http://newyork.craigslist.org/mnh/stp/6269285986.html',\n",
       "    'rel': 'alternate',\n",
       "    'type': 'text/html'}],\n",
       "  'published': '2017-08-23T10:09:21-04:00',\n",
       "  'published_parsed': time.struct_time(tm_year=2017, tm_mon=8, tm_mday=23, tm_hour=14, tm_min=9, tm_sec=21, tm_wday=2, tm_yday=235, tm_isdst=0),\n",
       "  'rights': 'copyright 2017 craiglist',\n",
       "  'rights_detail': {'base': 'https://newyork.craigslist.org/search/stp?format=rss',\n",
       "   'language': None,\n",
       "   'type': 'text/plain',\n",
       "   'value': 'copyright 2017 craiglist'},\n",
       "  'summary': \"About me.. \\nBeaches,malls,museums,movies,lounges,clubs,pool,drinking,quiet walks in parks/theater. \\nOutgoing, spontaneous, independent, adventerous, business owner, 5'7, 36 years old,165 lbs, good listener, good friend,no kids,live alone,own car. \\nSt ...\",\n",
       "  'summary_detail': {'base': 'https://newyork.craigslist.org/search/stp?format=rss',\n",
       "   'language': None,\n",
       "   'type': 'text/html',\n",
       "   'value': \"About me.. \\nBeaches,malls,museums,movies,lounges,clubs,pool,drinking,quiet walks in parks/theater. \\nOutgoing, spontaneous, independent, adventerous, business owner, 5'7, 36 years old,165 lbs, good listener, good friend,no kids,live alone,own car. \\nSt ...\"},\n",
       "  'title': 'NEW FRIENDSHIP WANTED 2017 - m4w (NEW YORK CITY)',\n",
       "  'title_detail': {'base': 'https://newyork.craigslist.org/search/stp?format=rss',\n",
       "   'language': None,\n",
       "   'type': 'text/plain',\n",
       "   'value': 'NEW FRIENDSHIP WANTED 2017 - m4w (NEW YORK CITY)'},\n",
       "  'updated': '2017-08-23T10:09:21-04:00',\n",
       "  'updated_parsed': time.struct_time(tm_year=2017, tm_mon=8, tm_mday=23, tm_hour=14, tm_min=9, tm_sec=21, tm_wday=2, tm_yday=235, tm_isdst=0)},\n",
       " {'dc_source': 'http://newyork.craigslist.org/mnh/stp/6267843104.html',\n",
       "  'dc_type': 'text',\n",
       "  'enc_enclosure': {'resource': 'https://images.craigslist.org/01313_1Jpwo1QyiCq_300x300.jpg',\n",
       "   'type': 'image/jpeg'},\n",
       "  'id': 'http://newyork.craigslist.org/mnh/stp/6267843104.html',\n",
       "  'language': 'en-us',\n",
       "  'link': 'http://newyork.craigslist.org/mnh/stp/6267843104.html',\n",
       "  'links': [{'href': 'http://newyork.craigslist.org/mnh/stp/6267843104.html',\n",
       "    'rel': 'alternate',\n",
       "    'type': 'text/html'}],\n",
       "  'published': '2017-08-23T10:08:53-04:00',\n",
       "  'published_parsed': time.struct_time(tm_year=2017, tm_mon=8, tm_mday=23, tm_hour=14, tm_min=8, tm_sec=53, tm_wday=2, tm_yday=235, tm_isdst=0),\n",
       "  'rights': 'copyright 2017 craiglist',\n",
       "  'rights_detail': {'base': 'https://newyork.craigslist.org/search/stp?format=rss',\n",
       "   'language': None,\n",
       "   'type': 'text/plain',\n",
       "   'value': 'copyright 2017 craiglist'},\n",
       "  'summary': \"About me.... \\nBeaches,malls,museums,movies,lounges,clubs,pool,drinking,quiet walks in parks/theater. \\nOutgoing, spontaneous, independent, adventerous, business owner, 5'7, 36 years old,165 lbs, good listener, good friend,no kids,live alone,own car. \\n ...\",\n",
       "  'summary_detail': {'base': 'https://newyork.craigslist.org/search/stp?format=rss',\n",
       "   'language': None,\n",
       "   'type': 'text/html',\n",
       "   'value': \"About me.... \\nBeaches,malls,museums,movies,lounges,clubs,pool,drinking,quiet walks in parks/theater. \\nOutgoing, spontaneous, independent, adventerous, business owner, 5'7, 36 years old,165 lbs, good listener, good friend,no kids,live alone,own car. \\n ...\"},\n",
       "  'title': 'Going with the flow 2017 - m4w (New York City)',\n",
       "  'title_detail': {'base': 'https://newyork.craigslist.org/search/stp?format=rss',\n",
       "   'language': None,\n",
       "   'type': 'text/plain',\n",
       "   'value': 'Going with the flow 2017 - m4w (New York City)'},\n",
       "  'updated': '2017-08-23T10:08:53-04:00',\n",
       "  'updated_parsed': time.struct_time(tm_year=2017, tm_mon=8, tm_mday=23, tm_hour=14, tm_min=8, tm_sec=53, tm_wday=2, tm_yday=235, tm_isdst=0)},\n",
       " {'dc_source': 'http://newyork.craigslist.org/mnh/stp/6267843361.html',\n",
       "  'dc_type': 'text',\n",
       "  'enc_enclosure': {'resource': 'https://images.craigslist.org/00D0D_ks825ScRoKw_300x300.jpg',\n",
       "   'type': 'image/jpeg'},\n",
       "  'id': 'http://newyork.craigslist.org/mnh/stp/6267843361.html',\n",
       "  'language': 'en-us',\n",
       "  'link': 'http://newyork.craigslist.org/mnh/stp/6267843361.html',\n",
       "  'links': [{'href': 'http://newyork.craigslist.org/mnh/stp/6267843361.html',\n",
       "    'rel': 'alternate',\n",
       "    'type': 'text/html'}],\n",
       "  'published': '2017-08-23T10:08:44-04:00',\n",
       "  'published_parsed': time.struct_time(tm_year=2017, tm_mon=8, tm_mday=23, tm_hour=14, tm_min=8, tm_sec=44, tm_wday=2, tm_yday=235, tm_isdst=0),\n",
       "  'rights': 'copyright 2017 craiglist',\n",
       "  'rights_detail': {'base': 'https://newyork.craigslist.org/search/stp?format=rss',\n",
       "   'language': None,\n",
       "   'type': 'text/plain',\n",
       "   'value': 'copyright 2017 craiglist'},\n",
       "  'summary': \"About me.. \\nBeaches,malls,museums,movies,lounges,clubs,pool,drinking,quiet walks in parks/theater. \\nOutgoing, spontaneous, independent, adventerous, business owner, 5'7, 36 years old,165 lbs, good listener, good friend,no kids,live alone,own car. \\nSt ...\",\n",
       "  'summary_detail': {'base': 'https://newyork.craigslist.org/search/stp?format=rss',\n",
       "   'language': None,\n",
       "   'type': 'text/html',\n",
       "   'value': \"About me.. \\nBeaches,malls,museums,movies,lounges,clubs,pool,drinking,quiet walks in parks/theater. \\nOutgoing, spontaneous, independent, adventerous, business owner, 5'7, 36 years old,165 lbs, good listener, good friend,no kids,live alone,own car. \\nSt ...\"},\n",
       "  'title': 'NEW FRIENDSHIP WANTED 2017 - m4w (NEW YORK CITY)',\n",
       "  'title_detail': {'base': 'https://newyork.craigslist.org/search/stp?format=rss',\n",
       "   'language': None,\n",
       "   'type': 'text/plain',\n",
       "   'value': 'NEW FRIENDSHIP WANTED 2017 - m4w (NEW YORK CITY)'},\n",
       "  'updated': '2017-08-23T10:08:44-04:00',\n",
       "  'updated_parsed': time.struct_time(tm_year=2017, tm_mon=8, tm_mday=23, tm_hour=14, tm_min=8, tm_sec=44, tm_wday=2, tm_yday=235, tm_isdst=0)}]"
      ]
     },
     "execution_count": 13,
     "metadata": {},
     "output_type": "execute_result"
    }
   ],
   "source": [
    "ny['entries']\n"
   ]
  },
  {
   "cell_type": "code",
   "execution_count": 14,
   "metadata": {
    "collapsed": false,
    "deletable": true,
    "editable": true
   },
   "outputs": [
    {
     "data": {
      "text/plain": [
       "25"
      ]
     },
     "execution_count": 14,
     "metadata": {},
     "output_type": "execute_result"
    }
   ],
   "source": [
    "len(ny['entries'])\n"
   ]
  },
  {
   "cell_type": "code",
   "execution_count": 15,
   "metadata": {
    "collapsed": true,
    "deletable": true,
    "editable": true
   },
   "outputs": [],
   "source": [
    "ny=feedparser.parse('http://newyork.craigslist.org/stp/index.rss')\n"
   ]
  },
  {
   "cell_type": "code",
   "execution_count": 16,
   "metadata": {
    "collapsed": false,
    "deletable": true,
    "editable": true
   },
   "outputs": [],
   "source": [
    "sf=feedparser.parse('http://sfbay.craigslist.org/stp/index.rss')\n"
   ]
  },
  {
   "cell_type": "code",
   "execution_count": 19,
   "metadata": {
    "collapsed": false,
    "deletable": true,
    "editable": true
   },
   "outputs": [
    {
     "name": "stderr",
     "output_type": "stream",
     "text": [
      "/usr/local/lib/python3.5/re.py:203: FutureWarning: split() requires a non-empty pattern match.\n",
      "  return _compile(pattern, flags).split(string, maxsplit)\n"
     ]
    },
    {
     "ename": "TypeError",
     "evalue": "'int' object is not iterable",
     "output_type": "error",
     "traceback": [
      "\u001b[1;31m---------------------------------------------------------------------------\u001b[0m",
      "\u001b[1;31mTypeError\u001b[0m                                 Traceback (most recent call last)",
      "\u001b[1;32m<ipython-input-19-a5ab0c2646eb>\u001b[0m in \u001b[0;36m<module>\u001b[1;34m()\u001b[0m\n\u001b[1;32m----> 1\u001b[1;33m \u001b[0mvocabList\u001b[0m\u001b[1;33m,\u001b[0m\u001b[0mpSF\u001b[0m\u001b[1;33m,\u001b[0m\u001b[0mpNY\u001b[0m\u001b[1;33m=\u001b[0m\u001b[0mbayes\u001b[0m\u001b[1;33m.\u001b[0m\u001b[0mlocalWords\u001b[0m\u001b[1;33m(\u001b[0m\u001b[0mny\u001b[0m\u001b[1;33m,\u001b[0m\u001b[0msf\u001b[0m\u001b[1;33m)\u001b[0m\u001b[1;33m\u001b[0m\u001b[0m\n\u001b[0m",
      "\u001b[1;32m/home/hadoop/Ollin/Ejercicios machine learning in action/Ch04/bayes.py\u001b[0m in \u001b[0;36mlocalWords\u001b[1;34m(feed1, feed0)\u001b[0m\n\u001b[0;32m    140\u001b[0m     \u001b[0mtrainingSet\u001b[0m \u001b[1;33m=\u001b[0m \u001b[0mlist\u001b[0m\u001b[1;33m(\u001b[0m\u001b[0mrange\u001b[0m\u001b[1;33m(\u001b[0m\u001b[1;36m2\u001b[0m\u001b[1;33m*\u001b[0m\u001b[0mminLen\u001b[0m\u001b[1;33m)\u001b[0m\u001b[1;33m)\u001b[0m\u001b[1;33m;\u001b[0m \u001b[0mtestSet\u001b[0m\u001b[1;33m=\u001b[0m\u001b[1;33m[\u001b[0m\u001b[1;33m]\u001b[0m           \u001b[1;31m#create test set\u001b[0m\u001b[1;33m\u001b[0m\u001b[0m\n\u001b[0;32m    141\u001b[0m     \u001b[1;32mfor\u001b[0m \u001b[0mi\u001b[0m \u001b[1;32min\u001b[0m \u001b[0mrange\u001b[0m\u001b[1;33m(\u001b[0m\u001b[1;36m20\u001b[0m\u001b[1;33m)\u001b[0m\u001b[1;33m:\u001b[0m\u001b[1;33m\u001b[0m\u001b[0m\n\u001b[1;32m--> 142\u001b[1;33m         \u001b[0mrandIndex\u001b[0m \u001b[1;33m=\u001b[0m \u001b[0mint\u001b[0m\u001b[1;33m(\u001b[0m\u001b[0mrandom\u001b[0m\u001b[1;33m.\u001b[0m\u001b[0muniform\u001b[0m\u001b[1;33m(\u001b[0m\u001b[1;36m0\u001b[0m\u001b[1;33m,\u001b[0m\u001b[0mlist\u001b[0m\u001b[1;33m(\u001b[0m\u001b[0mlen\u001b[0m\u001b[1;33m(\u001b[0m\u001b[0mtrainingSet\u001b[0m\u001b[1;33m)\u001b[0m\u001b[1;33m)\u001b[0m\u001b[1;33m)\u001b[0m\u001b[1;33m)\u001b[0m\u001b[1;33m\u001b[0m\u001b[0m\n\u001b[0m\u001b[0;32m    143\u001b[0m         \u001b[0mtestSet\u001b[0m\u001b[1;33m.\u001b[0m\u001b[0mappend\u001b[0m\u001b[1;33m(\u001b[0m\u001b[0mtrainingSet\u001b[0m\u001b[1;33m[\u001b[0m\u001b[0mrandIndex\u001b[0m\u001b[1;33m]\u001b[0m\u001b[1;33m)\u001b[0m\u001b[1;33m\u001b[0m\u001b[0m\n\u001b[0;32m    144\u001b[0m         \u001b[1;32mdel\u001b[0m\u001b[1;33m(\u001b[0m\u001b[0mtrainingSet\u001b[0m\u001b[1;33m[\u001b[0m\u001b[0mrandIndex\u001b[0m\u001b[1;33m]\u001b[0m\u001b[1;33m)\u001b[0m\u001b[1;33m\u001b[0m\u001b[0m\n",
      "\u001b[1;31mTypeError\u001b[0m: 'int' object is not iterable"
     ]
    }
   ],
   "source": [
    "vocabList,pSF,pNY=bayes.localWords(ny,sf)\n"
   ]
  },
  {
   "cell_type": "code",
   "execution_count": 49,
   "metadata": {
    "collapsed": false,
    "deletable": true,
    "editable": true
   },
   "outputs": [
    {
     "name": "stderr",
     "output_type": "stream",
     "text": [
      "/usr/local/lib/python3.5/re.py:203: FutureWarning: split() requires a non-empty pattern match.\n",
      "  return _compile(pattern, flags).split(string, maxsplit)\n"
     ]
    },
    {
     "ename": "TypeError",
     "evalue": "'range' object doesn't support item deletion",
     "output_type": "error",
     "traceback": [
      "\u001b[1;31m---------------------------------------------------------------------------\u001b[0m",
      "\u001b[1;31mTypeError\u001b[0m                                 Traceback (most recent call last)",
      "\u001b[1;32m<ipython-input-49-a5ab0c2646eb>\u001b[0m in \u001b[0;36m<module>\u001b[1;34m()\u001b[0m\n\u001b[1;32m----> 1\u001b[1;33m \u001b[0mvocabList\u001b[0m\u001b[1;33m,\u001b[0m\u001b[0mpSF\u001b[0m\u001b[1;33m,\u001b[0m\u001b[0mpNY\u001b[0m\u001b[1;33m=\u001b[0m\u001b[0mbayes\u001b[0m\u001b[1;33m.\u001b[0m\u001b[0mlocalWords\u001b[0m\u001b[1;33m(\u001b[0m\u001b[0mny\u001b[0m\u001b[1;33m,\u001b[0m\u001b[0msf\u001b[0m\u001b[1;33m)\u001b[0m\u001b[1;33m\u001b[0m\u001b[0m\n\u001b[0m",
      "\u001b[1;32m/home/hadoop/Ollin/Ejercicios machine learning in action/Ch04/bayes.py\u001b[0m in \u001b[0;36mlocalWords\u001b[1;34m(feed1, feed0)\u001b[0m\n\u001b[0;32m    142\u001b[0m         \u001b[0mrandIndex\u001b[0m \u001b[1;33m=\u001b[0m \u001b[0mint\u001b[0m\u001b[1;33m(\u001b[0m\u001b[0mrandom\u001b[0m\u001b[1;33m.\u001b[0m\u001b[0muniform\u001b[0m\u001b[1;33m(\u001b[0m\u001b[1;36m0\u001b[0m\u001b[1;33m,\u001b[0m\u001b[0mlist\u001b[0m\u001b[1;33m(\u001b[0m\u001b[0mlen\u001b[0m\u001b[1;33m(\u001b[0m\u001b[0mtrainingSet\u001b[0m\u001b[1;33m)\u001b[0m\u001b[1;33m)\u001b[0m\u001b[1;33m)\u001b[0m\u001b[1;33m)\u001b[0m\u001b[1;33m\u001b[0m\u001b[0m\n\u001b[0;32m    143\u001b[0m         \u001b[0mtestSet\u001b[0m\u001b[1;33m.\u001b[0m\u001b[0mappend\u001b[0m\u001b[1;33m(\u001b[0m\u001b[0mtrainingSet\u001b[0m\u001b[1;33m[\u001b[0m\u001b[0mrandIndex\u001b[0m\u001b[1;33m]\u001b[0m\u001b[1;33m)\u001b[0m\u001b[1;33m\u001b[0m\u001b[0m\n\u001b[1;32m--> 144\u001b[1;33m         \u001b[1;32mdel\u001b[0m\u001b[1;33m(\u001b[0m\u001b[0mtrainingSet\u001b[0m\u001b[1;33m[\u001b[0m\u001b[0mrandIndex\u001b[0m\u001b[1;33m]\u001b[0m\u001b[1;33m)\u001b[0m\u001b[1;33m\u001b[0m\u001b[0m\n\u001b[0m\u001b[0;32m    145\u001b[0m     \u001b[0mtrainMat\u001b[0m\u001b[1;33m=\u001b[0m\u001b[1;33m[\u001b[0m\u001b[1;33m]\u001b[0m\u001b[1;33m;\u001b[0m \u001b[0mtrainClasses\u001b[0m \u001b[1;33m=\u001b[0m \u001b[1;33m[\u001b[0m\u001b[1;33m]\u001b[0m\u001b[1;33m\u001b[0m\u001b[0m\n\u001b[0;32m    146\u001b[0m     \u001b[1;32mfor\u001b[0m \u001b[0mdocIndex\u001b[0m \u001b[1;32min\u001b[0m \u001b[0mtrainingSet\u001b[0m\u001b[1;33m:\u001b[0m\u001b[1;31m#train the classifier (get probs) trainNB0\u001b[0m\u001b[1;33m\u001b[0m\u001b[0m\n",
      "\u001b[1;31mTypeError\u001b[0m: 'range' object doesn't support item deletion"
     ]
    }
   ],
   "source": [
    "vocabList,pSF,pNY=bayes.localWords(ny,sf)\n"
   ]
  },
  {
   "cell_type": "code",
   "execution_count": 50,
   "metadata": {
    "collapsed": false,
    "deletable": true,
    "editable": true
   },
   "outputs": [
    {
     "name": "stderr",
     "output_type": "stream",
     "text": [
      "/usr/local/lib/python3.5/re.py:203: FutureWarning: split() requires a non-empty pattern match.\n",
      "  return _compile(pattern, flags).split(string, maxsplit)\n"
     ]
    },
    {
     "ename": "TypeError",
     "evalue": "'range' object doesn't support item deletion",
     "output_type": "error",
     "traceback": [
      "\u001b[1;31m---------------------------------------------------------------------------\u001b[0m",
      "\u001b[1;31mTypeError\u001b[0m                                 Traceback (most recent call last)",
      "\u001b[1;32m<ipython-input-50-4e7c0e9e85f5>\u001b[0m in \u001b[0;36m<module>\u001b[1;34m()\u001b[0m\n\u001b[1;32m----> 1\u001b[1;33m \u001b[0mbayes\u001b[0m\u001b[1;33m.\u001b[0m\u001b[0mgetTopWords\u001b[0m\u001b[1;33m(\u001b[0m\u001b[0mny\u001b[0m\u001b[1;33m,\u001b[0m\u001b[0msf\u001b[0m\u001b[1;33m)\u001b[0m\u001b[1;33m\u001b[0m\u001b[0m\n\u001b[0m",
      "\u001b[1;32m/home/hadoop/Ollin/Ejercicios machine learning in action/Ch04/bayes.py\u001b[0m in \u001b[0;36mgetTopWords\u001b[1;34m(ny, sf)\u001b[0m\n\u001b[0;32m    158\u001b[0m \u001b[1;32mdef\u001b[0m \u001b[0mgetTopWords\u001b[0m\u001b[1;33m(\u001b[0m\u001b[0mny\u001b[0m\u001b[1;33m,\u001b[0m\u001b[0msf\u001b[0m\u001b[1;33m)\u001b[0m\u001b[1;33m:\u001b[0m\u001b[1;33m\u001b[0m\u001b[0m\n\u001b[0;32m    159\u001b[0m     \u001b[1;32mimport\u001b[0m \u001b[0moperator\u001b[0m\u001b[1;33m\u001b[0m\u001b[0m\n\u001b[1;32m--> 160\u001b[1;33m     \u001b[0mvocabList\u001b[0m\u001b[1;33m,\u001b[0m\u001b[0mp0V\u001b[0m\u001b[1;33m,\u001b[0m\u001b[0mp1V\u001b[0m\u001b[1;33m=\u001b[0m\u001b[0mlocalWords\u001b[0m\u001b[1;33m(\u001b[0m\u001b[0mny\u001b[0m\u001b[1;33m,\u001b[0m\u001b[0msf\u001b[0m\u001b[1;33m)\u001b[0m\u001b[1;33m\u001b[0m\u001b[0m\n\u001b[0m\u001b[0;32m    161\u001b[0m     \u001b[0mtopNY\u001b[0m\u001b[1;33m=\u001b[0m\u001b[1;33m[\u001b[0m\u001b[1;33m]\u001b[0m\u001b[1;33m;\u001b[0m \u001b[0mtopSF\u001b[0m\u001b[1;33m=\u001b[0m\u001b[1;33m[\u001b[0m\u001b[1;33m]\u001b[0m\u001b[1;33m\u001b[0m\u001b[0m\n\u001b[0;32m    162\u001b[0m     \u001b[1;32mfor\u001b[0m \u001b[0mi\u001b[0m \u001b[1;32min\u001b[0m \u001b[0mrange\u001b[0m\u001b[1;33m(\u001b[0m\u001b[0mlen\u001b[0m\u001b[1;33m(\u001b[0m\u001b[0mp0V\u001b[0m\u001b[1;33m)\u001b[0m\u001b[1;33m)\u001b[0m\u001b[1;33m:\u001b[0m\u001b[1;33m\u001b[0m\u001b[0m\n",
      "\u001b[1;32m/home/hadoop/Ollin/Ejercicios machine learning in action/Ch04/bayes.py\u001b[0m in \u001b[0;36mlocalWords\u001b[1;34m(feed1, feed0)\u001b[0m\n\u001b[0;32m    142\u001b[0m         \u001b[0mrandIndex\u001b[0m \u001b[1;33m=\u001b[0m \u001b[0mint\u001b[0m\u001b[1;33m(\u001b[0m\u001b[0mrandom\u001b[0m\u001b[1;33m.\u001b[0m\u001b[0muniform\u001b[0m\u001b[1;33m(\u001b[0m\u001b[1;36m0\u001b[0m\u001b[1;33m,\u001b[0m\u001b[0mlist\u001b[0m\u001b[1;33m(\u001b[0m\u001b[0mlen\u001b[0m\u001b[1;33m(\u001b[0m\u001b[0mtrainingSet\u001b[0m\u001b[1;33m)\u001b[0m\u001b[1;33m)\u001b[0m\u001b[1;33m)\u001b[0m\u001b[1;33m)\u001b[0m\u001b[1;33m\u001b[0m\u001b[0m\n\u001b[0;32m    143\u001b[0m         \u001b[0mtestSet\u001b[0m\u001b[1;33m.\u001b[0m\u001b[0mappend\u001b[0m\u001b[1;33m(\u001b[0m\u001b[0mtrainingSet\u001b[0m\u001b[1;33m[\u001b[0m\u001b[0mrandIndex\u001b[0m\u001b[1;33m]\u001b[0m\u001b[1;33m)\u001b[0m\u001b[1;33m\u001b[0m\u001b[0m\n\u001b[1;32m--> 144\u001b[1;33m         \u001b[1;32mdel\u001b[0m\u001b[1;33m(\u001b[0m\u001b[0mtrainingSet\u001b[0m\u001b[1;33m[\u001b[0m\u001b[0mrandIndex\u001b[0m\u001b[1;33m]\u001b[0m\u001b[1;33m)\u001b[0m\u001b[1;33m\u001b[0m\u001b[0m\n\u001b[0m\u001b[0;32m    145\u001b[0m     \u001b[0mtrainMat\u001b[0m\u001b[1;33m=\u001b[0m\u001b[1;33m[\u001b[0m\u001b[1;33m]\u001b[0m\u001b[1;33m;\u001b[0m \u001b[0mtrainClasses\u001b[0m \u001b[1;33m=\u001b[0m \u001b[1;33m[\u001b[0m\u001b[1;33m]\u001b[0m\u001b[1;33m\u001b[0m\u001b[0m\n\u001b[0;32m    146\u001b[0m     \u001b[1;32mfor\u001b[0m \u001b[0mdocIndex\u001b[0m \u001b[1;32min\u001b[0m \u001b[0mtrainingSet\u001b[0m\u001b[1;33m:\u001b[0m\u001b[1;31m#train the classifier (get probs) trainNB0\u001b[0m\u001b[1;33m\u001b[0m\u001b[0m\n",
      "\u001b[1;31mTypeError\u001b[0m: 'range' object doesn't support item deletion"
     ]
    }
   ],
   "source": [
    "bayes.getTopWords(ny,sf)\n"
   ]
  },
  {
   "cell_type": "code",
   "execution_count": 23,
   "metadata": {
    "collapsed": false,
    "deletable": true,
    "editable": true
   },
   "outputs": [
    {
     "ename": "NameError",
     "evalue": "name 'numTrainDocs' is not defined",
     "output_type": "error",
     "traceback": [
      "\u001b[1;31m---------------------------------------------------------------------------\u001b[0m",
      "\u001b[1;31mNameError\u001b[0m                                 Traceback (most recent call last)",
      "\u001b[1;32m<ipython-input-23-aab62b3c6815>\u001b[0m in \u001b[0;36m<module>\u001b[1;34m()\u001b[0m\n\u001b[1;32m----> 1\u001b[1;33m \u001b[0mnumTrainDocs\u001b[0m\u001b[1;33m\u001b[0m\u001b[0m\n\u001b[0m",
      "\u001b[1;31mNameError\u001b[0m: name 'numTrainDocs' is not defined"
     ]
    }
   ],
   "source": [
    "numTrainDocs"
   ]
  },
  {
   "cell_type": "code",
   "execution_count": null,
   "metadata": {
    "collapsed": true,
    "deletable": true,
    "editable": true
   },
   "outputs": [],
   "source": []
  }
 ],
 "metadata": {
  "kernelspec": {
   "display_name": "Python 3",
   "language": "python",
   "name": "python3"
  },
  "language_info": {
   "codemirror_mode": {
    "name": "ipython",
    "version": 3
   },
   "file_extension": ".py",
   "mimetype": "text/x-python",
   "name": "python",
   "nbconvert_exporter": "python",
   "pygments_lexer": "ipython3",
   "version": "3.5.0"
  }
 },
 "nbformat": 4,
 "nbformat_minor": 2
}
