{
 "cells": [
  {
   "cell_type": "markdown",
   "metadata": {
    "deletable": true,
    "editable": true
   },
   "source": [
    "# ALGORITMO PCA"
   ]
  },
  {
   "cell_type": "code",
   "execution_count": 1,
   "metadata": {
    "collapsed": true,
    "deletable": true,
    "editable": true
   },
   "outputs": [],
   "source": [
    "from numpy import *\n",
    "import matplotlib\n",
    "import matplotlib.pyplot as plt\n",
    "import pca"
   ]
  },
  {
   "cell_type": "markdown",
   "metadata": {},
   "source": [
    "### Cargamos nuestros datos"
   ]
  },
  {
   "cell_type": "code",
   "execution_count": 2,
   "metadata": {
    "collapsed": false,
    "deletable": true,
    "editable": true
   },
   "outputs": [],
   "source": [
    "dataMat = pca.loadDataSet('testSet.txt')\n"
   ]
  },
  {
   "cell_type": "markdown",
   "metadata": {},
   "source": [
    "### Ahora, hagamos el PCA de este conjunto de datos:"
   ]
  },
  {
   "cell_type": "code",
   "execution_count": 3,
   "metadata": {
    "collapsed": true,
    "deletable": true,
    "editable": true
   },
   "outputs": [],
   "source": [
    "lowDMat, reconMat = pca.pca(dataMat, 1)\n"
   ]
  },
  {
   "cell_type": "markdown",
   "metadata": {},
   "source": [
    "### LowDMat contiene la matriz en nuestras dimensiones reducidas, que debe ser una dimensión"
   ]
  },
  {
   "cell_type": "code",
   "execution_count": 4,
   "metadata": {
    "collapsed": false,
    "deletable": true,
    "editable": true
   },
   "outputs": [
    {
     "data": {
      "text/plain": [
       "(1000, 1)"
      ]
     },
     "execution_count": 4,
     "metadata": {},
     "output_type": "execute_result"
    }
   ],
   "source": [
    "shape(lowDMat)\n"
   ]
  },
  {
   "cell_type": "markdown",
   "metadata": {},
   "source": [
    "### Graficamos  los datos originales:"
   ]
  },
  {
   "cell_type": "code",
   "execution_count": 5,
   "metadata": {
    "collapsed": true,
    "deletable": true,
    "editable": true
   },
   "outputs": [],
   "source": [
    "fig = plt.figure()\n"
   ]
  },
  {
   "cell_type": "code",
   "execution_count": 6,
   "metadata": {
    "collapsed": true,
    "deletable": true,
    "editable": true
   },
   "outputs": [],
   "source": [
    "ax = fig.add_subplot(111)"
   ]
  },
  {
   "cell_type": "code",
   "execution_count": 7,
   "metadata": {
    "collapsed": false,
    "deletable": true,
    "editable": true
   },
   "outputs": [
    {
     "data": {
      "text/plain": [
       "<matplotlib.collections.PathCollection at 0x7f26a1cf62b0>"
      ]
     },
     "execution_count": 7,
     "metadata": {},
     "output_type": "execute_result"
    }
   ],
   "source": [
    "ax.scatter(dataMat[:,0].flatten().A[0], dataMat[:,1].flatten().A[0],marker='^', s=90)\n"
   ]
  },
  {
   "cell_type": "code",
   "execution_count": 8,
   "metadata": {
    "collapsed": false,
    "deletable": true,
    "editable": true
   },
   "outputs": [
    {
     "data": {
      "text/plain": [
       "<matplotlib.collections.PathCollection at 0x7f26a1cf6d30>"
      ]
     },
     "execution_count": 8,
     "metadata": {},
     "output_type": "execute_result"
    }
   ],
   "source": [
    "ax.scatter(reconMat[:,0].flatten().A[0], reconMat[:,1].flatten().A[0], marker='o', s=50, c='red')\n"
   ]
  },
  {
   "cell_type": "code",
   "execution_count": 9,
   "metadata": {
    "collapsed": false,
    "deletable": true,
    "editable": true
   },
   "outputs": [
    {
     "data": {
      "image/png": "[encoded data removed]",
      "text/plain": [
       "<matplotlib.figure.Figure at 0x7f26c8b70c18>"
      ]
     },
     "metadata": {},
     "output_type": "display_data"
    }
   ],
   "source": [
    "plt.show()\n"
   ]
  },
  {
   "cell_type": "markdown",
   "metadata": {},
   "source": [
    "### Los datos reconstruidos deben superponerse a los datos originales porque no se eliminan las características."
   ]
  },
  {
   "cell_type": "code",
   "execution_count": 18,
   "metadata": {
    "collapsed": true,
    "deletable": true,
    "editable": true
   },
   "outputs": [],
   "source": [
    "lowDMat, reconMat = pca.pca(dataMat, 2)\n"
   ]
  },
  {
   "cell_type": "code",
   "execution_count": 19,
   "metadata": {
    "collapsed": false
   },
   "outputs": [
    {
     "data": {
      "text/plain": [
       "(1567, 2)"
      ]
     },
     "execution_count": 19,
     "metadata": {},
     "output_type": "execute_result"
    }
   ],
   "source": [
    "shape(lowDMat)"
   ]
  },
  {
   "cell_type": "code",
   "execution_count": 20,
   "metadata": {
    "collapsed": true
   },
   "outputs": [],
   "source": [
    "fig = plt.figure()"
   ]
  },
  {
   "cell_type": "code",
   "execution_count": 21,
   "metadata": {
    "collapsed": true
   },
   "outputs": [],
   "source": [
    "ax = fig.add_subplot(111)"
   ]
  },
  {
   "cell_type": "code",
   "execution_count": 22,
   "metadata": {
    "collapsed": false,
    "deletable": true,
    "editable": true
   },
   "outputs": [
    {
     "data": {
      "text/plain": [
       "<matplotlib.collections.PathCollection at 0x7f269fc4cdd8>"
      ]
     },
     "execution_count": 22,
     "metadata": {},
     "output_type": "execute_result"
    }
   ],
   "source": [
    "ax.scatter(dataMat[:,0].flatten().A[0], dataMat[:,1].flatten().A[0],marker='^', s=90)"
   ]
  },
  {
   "cell_type": "code",
   "execution_count": 23,
   "metadata": {
    "collapsed": false
   },
   "outputs": [
    {
     "name": "stderr",
     "output_type": "stream",
     "text": [
      "/usr/local/lib/python3.5/site-packages/numpy/core/numeric.py:533: ComplexWarning: Casting complex values to real discards the imaginary part\n",
      "  return array(a, dtype, copy=False, order=order, subok=True)\n"
     ]
    },
    {
     "data": {
      "text/plain": [
       "<matplotlib.collections.PathCollection at 0x7f26a1cae9b0>"
      ]
     },
     "execution_count": 23,
     "metadata": {},
     "output_type": "execute_result"
    }
   ],
   "source": [
    "ax.scatter(reconMat[:,0].flatten().A[0], reconMat[:,1].flatten().A[0], marker='o', s=50, c='red')"
   ]
  },
  {
   "cell_type": "code",
   "execution_count": 24,
   "metadata": {
    "collapsed": false
   },
   "outputs": [
    {
     "name": "stderr",
     "output_type": "stream",
     "text": [
      "/usr/local/lib/python3.5/site-packages/numpy/core/numeric.py:533: ComplexWarning: Casting complex values to real discards the imaginary part\n",
      "  return array(a, dtype, copy=False, order=order, subok=True)\n"
     ]
    },
    {
     "data": {
      "image/png": "[encoded data removed]",
      "text/plain": [
       "<matplotlib.figure.Figure at 0x7f26a1ca9f60>"
      ]
     },
     "metadata": {},
     "output_type": "display_data"
    }
   ],
   "source": [
    "plt.show()"
   ]
  },
  {
   "cell_type": "markdown",
   "metadata": {},
   "source": [
    "## Utilizando PCA para reducir la dimensionalidad de los datos de fabricación de semiconductores\n",
    "### Sustituimos cualquier valor NaN por la media"
   ]
  },
  {
   "cell_type": "code",
   "execution_count": 11,
   "metadata": {
    "collapsed": true,
    "deletable": true,
    "editable": true
   },
   "outputs": [],
   "source": [
    "dataMat = pca.replaceNanWithMean()\n"
   ]
  },
  {
   "cell_type": "markdown",
   "metadata": {},
   "source": [
    "### Eliminamos la media"
   ]
  },
  {
   "cell_type": "code",
   "execution_count": 12,
   "metadata": {
    "collapsed": true,
    "deletable": true,
    "editable": true
   },
   "outputs": [],
   "source": [
    "meanVals = mean(dataMat, axis=0)\n"
   ]
  },
  {
   "cell_type": "code",
   "execution_count": 13,
   "metadata": {
    "collapsed": true,
    "deletable": true,
    "editable": true
   },
   "outputs": [],
   "source": [
    "meanRemoved = dataMat - meanVals\n"
   ]
  },
  {
   "cell_type": "markdown",
   "metadata": {},
   "source": [
    "### Calculamos  la matriz de covarianza:"
   ]
  },
  {
   "cell_type": "code",
   "execution_count": 14,
   "metadata": {
    "collapsed": true,
    "deletable": true,
    "editable": true
   },
   "outputs": [],
   "source": [
    "covMat = cov(meanRemoved, rowvar=0)\n"
   ]
  },
  {
   "cell_type": "markdown",
   "metadata": {},
   "source": [
    "### Por último,calculamos los valores propios de la matriz de covarianza:"
   ]
  },
  {
   "cell_type": "code",
   "execution_count": 15,
   "metadata": {
    "collapsed": true,
    "deletable": true,
    "editable": true
   },
   "outputs": [],
   "source": [
    "eigVals,eigVects = linalg.eig(mat(covMat))\n"
   ]
  },
  {
   "cell_type": "markdown",
   "metadata": {},
   "source": [
    "### Los valores propios son: "
   ]
  },
  {
   "cell_type": "code",
   "execution_count": 16,
   "metadata": {
    "collapsed": false,
    "deletable": true,
    "editable": true
   },
   "outputs": [
    {
     "data": {
      "text/plain": [
       "array([  5.34151979e+07 +0.00000000e+00j,\n",
       "         2.17466719e+07 +0.00000000e+00j,\n",
       "         8.24837662e+06 +0.00000000e+00j,\n",
       "         2.07388086e+06 +0.00000000e+00j,\n",
       "         1.31540439e+06 +0.00000000e+00j,\n",
       "         4.67693557e+05 +0.00000000e+00j,\n",
       "         2.90863555e+05 +0.00000000e+00j,\n",
       "         2.83668601e+05 +0.00000000e+00j,\n",
       "         2.37155830e+05 +0.00000000e+00j,\n",
       "         2.08513836e+05 +0.00000000e+00j,\n",
       "         1.96098849e+05 +0.00000000e+00j,\n",
       "         1.86856549e+05 +0.00000000e+00j,\n",
       "         1.52422354e+05 +0.00000000e+00j,\n",
       "         1.13215032e+05 +0.00000000e+00j,\n",
       "         1.08493848e+05 +0.00000000e+00j,\n",
       "         1.02849533e+05 +0.00000000e+00j,\n",
       "         1.00166164e+05 +0.00000000e+00j,\n",
       "         8.33473762e+04 +0.00000000e+00j,\n",
       "         8.15850591e+04 +0.00000000e+00j,\n",
       "         7.76560524e+04 +0.00000000e+00j,\n",
       "         6.66060410e+04 +0.00000000e+00j,\n",
       "         6.52620058e+04 +0.00000000e+00j,\n",
       "         5.96776503e+04 +0.00000000e+00j,\n",
       "         5.16269933e+04 +0.00000000e+00j,\n",
       "         5.03324580e+04 +0.00000000e+00j,\n",
       "         4.54661746e+04 +0.00000000e+00j,\n",
       "         4.41914029e+04 +0.00000000e+00j,\n",
       "         4.15532551e+04 +0.00000000e+00j,\n",
       "         3.55294040e+04 +0.00000000e+00j,\n",
       "         3.31436743e+04 +0.00000000e+00j,\n",
       "         2.67385181e+04 +0.00000000e+00j,\n",
       "         1.47123429e+04 +0.00000000e+00j,\n",
       "         1.44089194e+04 +0.00000000e+00j,\n",
       "         1.09321187e+04 +0.00000000e+00j,\n",
       "         1.04841308e+04 +0.00000000e+00j,\n",
       "         9.48876548e+03 +0.00000000e+00j,\n",
       "         8.34665462e+03 +0.00000000e+00j,\n",
       "         7.22765535e+03 +0.00000000e+00j,\n",
       "         5.34196392e+03 +0.00000000e+00j,\n",
       "         4.95614671e+03 +0.00000000e+00j,\n",
       "         4.23060022e+03 +0.00000000e+00j,\n",
       "         4.10673182e+03 +0.00000000e+00j,\n",
       "         3.41199406e+03 +0.00000000e+00j,\n",
       "         3.24193522e+03 +0.00000000e+00j,\n",
       "         2.74523635e+03 +0.00000000e+00j,\n",
       "         2.35027999e+03 +0.00000000e+00j,\n",
       "         2.16835314e+03 +0.00000000e+00j,\n",
       "         1.86414157e+03 +0.00000000e+00j,\n",
       "         1.76741826e+03 +0.00000000e+00j,\n",
       "         1.70492093e+03 +0.00000000e+00j,\n",
       "         1.66199683e+03 +0.00000000e+00j,\n",
       "         1.53948465e+03 +0.00000000e+00j,\n",
       "         1.33096008e+03 +0.00000000e+00j,\n",
       "         1.25591691e+03 +0.00000000e+00j,\n",
       "         1.15509389e+03 +0.00000000e+00j,\n",
       "         1.12410108e+03 +0.00000000e+00j,\n",
       "         1.03213798e+03 +0.00000000e+00j,\n",
       "         1.00972093e+03 +0.00000000e+00j,\n",
       "         9.50542179e+02 +0.00000000e+00j,\n",
       "         9.09791361e+02 +0.00000000e+00j,\n",
       "         8.32001551e+02 +0.00000000e+00j,\n",
       "         8.08898242e+02 +0.00000000e+00j,\n",
       "         7.37343627e+02 +0.00000000e+00j,\n",
       "         6.87596830e+02 +0.00000000e+00j,\n",
       "         5.64452104e+02 +0.00000000e+00j,\n",
       "         5.51812250e+02 +0.00000000e+00j,\n",
       "         5.37209115e+02 +0.00000000e+00j,\n",
       "         4.93029995e+02 +0.00000000e+00j,\n",
       "         4.13720573e+02 +0.00000000e+00j,\n",
       "         3.90222119e+02 +0.00000000e+00j,\n",
       "         3.37288784e+02 +0.00000000e+00j,\n",
       "         3.27558605e+02 +0.00000000e+00j,\n",
       "         3.08869553e+02 +0.00000000e+00j,\n",
       "         2.46285839e+02 +0.00000000e+00j,\n",
       "         2.28893093e+02 +0.00000000e+00j,\n",
       "         1.96447852e+02 +0.00000000e+00j,\n",
       "         1.75559820e+02 +0.00000000e+00j,\n",
       "         1.65795169e+02 +0.00000000e+00j,\n",
       "         1.56428052e+02 +0.00000000e+00j,\n",
       "         1.39671194e+02 +0.00000000e+00j,\n",
       "         1.28662864e+02 +0.00000000e+00j,\n",
       "         1.15624070e+02 +0.00000000e+00j,\n",
       "         1.10318239e+02 +0.00000000e+00j,\n",
       "         1.08663541e+02 +0.00000000e+00j,\n",
       "         1.00695416e+02 +0.00000000e+00j,\n",
       "         9.80687852e+01 +0.00000000e+00j,\n",
       "         8.34968275e+01 +0.00000000e+00j,\n",
       "         7.53025397e+01 +0.00000000e+00j,\n",
       "         6.89260158e+01 +0.00000000e+00j,\n",
       "         6.67786503e+01 +0.00000000e+00j,\n",
       "         6.09412873e+01 +0.00000000e+00j,\n",
       "         5.30974002e+01 +0.00000000e+00j,\n",
       "         4.71797825e+01 +0.00000000e+00j,\n",
       "         4.50701108e+01 +0.00000000e+00j,\n",
       "         4.41349593e+01 +0.00000000e+00j,\n",
       "         4.03313416e+01 +0.00000000e+00j,\n",
       "         3.95741636e+01 +0.00000000e+00j,\n",
       "         3.74000035e+01 +0.00000000e+00j,\n",
       "         3.44211326e+01 +0.00000000e+00j,\n",
       "         3.30031584e+01 +0.00000000e+00j,\n",
       "         3.03317756e+01 +0.00000000e+00j,\n",
       "         2.88994580e+01 +0.00000000e+00j,\n",
       "         2.76478754e+01 +0.00000000e+00j,\n",
       "         2.57708695e+01 +0.00000000e+00j,\n",
       "         2.44506430e+01 +0.00000000e+00j,\n",
       "         2.31640106e+01 +0.00000000e+00j,\n",
       "         2.26956957e+01 +0.00000000e+00j,\n",
       "         2.16925102e+01 +0.00000000e+00j,\n",
       "         2.10114869e+01 +0.00000000e+00j,\n",
       "         2.00984697e+01 +0.00000000e+00j,\n",
       "         1.86489543e+01 +0.00000000e+00j,\n",
       "         1.83733216e+01 +0.00000000e+00j,\n",
       "         1.72517802e+01 +0.00000000e+00j,\n",
       "         1.60481189e+01 +0.00000000e+00j,\n",
       "         1.54406997e+01 +0.00000000e+00j,\n",
       "         1.48356499e+01 +0.00000000e+00j,\n",
       "         1.44273357e+01 +0.00000000e+00j,\n",
       "         1.42318192e+01 +0.00000000e+00j,\n",
       "         1.35592064e+01 +0.00000000e+00j,\n",
       "         1.30696836e+01 +0.00000000e+00j,\n",
       "         1.28193512e+01 +0.00000000e+00j,\n",
       "         1.22093626e+01 +0.00000000e+00j,\n",
       "         1.15228376e+01 +0.00000000e+00j,\n",
       "         1.12141738e+01 +0.00000000e+00j,\n",
       "         1.02585936e+01 +0.00000000e+00j,\n",
       "         9.86906139e+00 +0.00000000e+00j,\n",
       "         9.58794460e+00 +0.00000000e+00j,\n",
       "         9.41686288e+00 +0.00000000e+00j,\n",
       "         9.20276340e+00 +0.00000000e+00j,\n",
       "         8.63791398e+00 +0.00000000e+00j,\n",
       "         8.20622561e+00 +0.00000000e+00j,\n",
       "         8.01020114e+00 +0.00000000e+00j,\n",
       "         7.53391290e+00 +0.00000000e+00j,\n",
       "         7.33168361e+00 +0.00000000e+00j,\n",
       "         7.09960245e+00 +0.00000000e+00j,\n",
       "         7.02149364e+00 +0.00000000e+00j,\n",
       "         6.76557324e+00 +0.00000000e+00j,\n",
       "         6.34504733e+00 +0.00000000e+00j,\n",
       "         6.01919292e+00 +0.00000000e+00j,\n",
       "         5.81680918e+00 +0.00000000e+00j,\n",
       "         5.44653788e+00 +0.00000000e+00j,\n",
       "         5.12338463e+00 +0.00000000e+00j,\n",
       "         4.79593185e+00 +0.00000000e+00j,\n",
       "         4.47851795e+00 +0.00000000e+00j,\n",
       "         4.50369987e+00 +0.00000000e+00j,\n",
       "         4.27479386e+00 +0.00000000e+00j,\n",
       "         3.89124198e+00 +0.00000000e+00j,\n",
       "         3.56466892e+00 +0.00000000e+00j,\n",
       "         3.32248982e+00 +0.00000000e+00j,\n",
       "         2.97665360e+00 +0.00000000e+00j,\n",
       "         2.61425544e+00 +0.00000000e+00j,\n",
       "         2.31802829e+00 +0.00000000e+00j,\n",
       "         2.17171124e+00 +0.00000000e+00j,\n",
       "         1.99239284e+00 +0.00000000e+00j,\n",
       "         1.96616566e+00 +0.00000000e+00j,\n",
       "         1.88149281e+00 +0.00000000e+00j,\n",
       "         1.79228288e+00 +0.00000000e+00j,\n",
       "         1.71378363e+00 +0.00000000e+00j,\n",
       "         1.68028783e+00 +0.00000000e+00j,\n",
       "         1.60686268e+00 +0.00000000e+00j,\n",
       "         1.47158244e+00 +0.00000000e+00j,\n",
       "         1.40656712e+00 +0.00000000e+00j,\n",
       "         1.37808906e+00 +0.00000000e+00j,\n",
       "         1.27967672e+00 +0.00000000e+00j,\n",
       "         1.22803716e+00 +0.00000000e+00j,\n",
       "         1.18531109e+00 +0.00000000e+00j,\n",
       "         9.18222054e-01 +0.00000000e+00j,\n",
       "         9.38857180e-01 +0.00000000e+00j,\n",
       "         8.26265393e-01 +0.00000000e+00j,\n",
       "         7.96585842e-01 +0.00000000e+00j,\n",
       "         7.74597255e-01 +0.00000000e+00j,\n",
       "         7.14002770e-01 +0.00000000e+00j,\n",
       "         6.79457797e-01 +0.00000000e+00j,\n",
       "         6.37928310e-01 +0.00000000e+00j,\n",
       "         6.24646758e-01 +0.00000000e+00j,\n",
       "         5.34605353e-01 +0.00000000e+00j,\n",
       "         4.60658687e-01 +0.00000000e+00j,\n",
       "         4.24265893e-01 +0.00000000e+00j,\n",
       "         4.08634622e-01 +0.00000000e+00j,\n",
       "         3.70321764e-01 +0.00000000e+00j,\n",
       "         3.67016386e-01 +0.00000000e+00j,\n",
       "         3.35858033e-01 +0.00000000e+00j,\n",
       "         3.29780397e-01 +0.00000000e+00j,\n",
       "         2.94348753e-01 +0.00000000e+00j,\n",
       "         2.84154176e-01 +0.00000000e+00j,\n",
       "         2.72703994e-01 +0.00000000e+00j,\n",
       "         2.63265991e-01 +0.00000000e+00j,\n",
       "         2.45227786e-01 +0.00000000e+00j,\n",
       "         2.25805135e-01 +0.00000000e+00j,\n",
       "         2.22331919e-01 +0.00000000e+00j,\n",
       "         2.13514673e-01 +0.00000000e+00j,\n",
       "         1.93961935e-01 +0.00000000e+00j,\n",
       "         1.91647269e-01 +0.00000000e+00j,\n",
       "         1.83668491e-01 +0.00000000e+00j,\n",
       "         1.82518017e-01 +0.00000000e+00j,\n",
       "         1.65310922e-01 +0.00000000e+00j,\n",
       "         1.57447909e-01 +0.00000000e+00j,\n",
       "         1.51263974e-01 +0.00000000e+00j,\n",
       "         1.39427297e-01 +0.00000000e+00j,\n",
       "         1.32638882e-01 +0.00000000e+00j,\n",
       "         1.28000027e-01 +0.00000000e+00j,\n",
       "         1.13559952e-01 +0.00000000e+00j,\n",
       "         1.12576237e-01 +0.00000000e+00j,\n",
       "         1.08809771e-01 +0.00000000e+00j,\n",
       "         1.07136355e-01 +0.00000000e+00j,\n",
       "         8.60839655e-02 +0.00000000e+00j,\n",
       "         8.50467792e-02 +0.00000000e+00j,\n",
       "         8.29254355e-02 +0.00000000e+00j,\n",
       "         7.03701660e-02 +0.00000000e+00j,\n",
       "         6.44475619e-02 +0.00000000e+00j,\n",
       "         6.09866327e-02 +0.00000000e+00j,\n",
       "         6.05709478e-02 +0.00000000e+00j,\n",
       "         5.93963958e-02 +0.00000000e+00j,\n",
       "         5.22163549e-02 +0.00000000e+00j,\n",
       "         4.92729703e-02 +0.00000000e+00j,\n",
       "         4.80022983e-02 +0.00000000e+00j,\n",
       "         4.51487439e-02 +0.00000000e+00j,\n",
       "         4.30180504e-02 +0.00000000e+00j,\n",
       "         4.13368324e-02 +0.00000000e+00j,\n",
       "         4.03281604e-02 +0.00000000e+00j,\n",
       "         3.91576587e-02 +0.00000000e+00j,\n",
       "         3.54198873e-02 +0.00000000e+00j,\n",
       "         3.31199510e-02 +0.00000000e+00j,\n",
       "         3.13547234e-02 +0.00000000e+00j,\n",
       "         3.07226509e-02 +0.00000000e+00j,\n",
       "         2.98354196e-02 +0.00000000e+00j,\n",
       "         2.81949091e-02 +0.00000000e+00j,\n",
       "         2.49158051e-02 +0.00000000e+00j,\n",
       "         2.36374781e-02 +0.00000000e+00j,\n",
       "         2.28360210e-02 +0.00000000e+00j,\n",
       "         2.19602047e-02 +0.00000000e+00j,\n",
       "         2.00166957e-02 +0.00000000e+00j,\n",
       "         1.86597535e-02 +0.00000000e+00j,\n",
       "         1.80415918e-02 +0.00000000e+00j,\n",
       "         1.72261012e-02 +0.00000000e+00j,\n",
       "         1.60703860e-02 +0.00000000e+00j,\n",
       "         1.49566735e-02 +0.00000000e+00j,\n",
       "         1.40165444e-02 +0.00000000e+00j,\n",
       "         1.31296856e-02 +0.00000000e+00j,\n",
       "         1.21358005e-02 +0.00000000e+00j,\n",
       "         1.07166503e-02 +0.00000000e+00j,\n",
       "         1.01045695e-02 +0.00000000e+00j,\n",
       "         9.76055340e-03 +0.00000000e+00j,\n",
       "         9.16740926e-03 +0.00000000e+00j,\n",
       "         8.78108857e-03 +0.00000000e+00j,\n",
       "         8.67465278e-03 +0.00000000e+00j,\n",
       "         8.30918514e-03 +0.00000000e+00j,\n",
       "         8.05104488e-03 +0.00000000e+00j,\n",
       "         7.56152126e-03 +0.00000000e+00j,\n",
       "         7.31508852e-03 +0.00000000e+00j,\n",
       "         7.26347037e-03 +0.00000000e+00j,\n",
       "         6.65728354e-03 +0.00000000e+00j,\n",
       "         6.50769617e-03 +0.00000000e+00j,\n",
       "         6.28009879e-03 +0.00000000e+00j,\n",
       "         6.19160730e-03 +0.00000000e+00j,\n",
       "         5.64130272e-03 +0.00000000e+00j,\n",
       "         5.30195373e-03 +0.00000000e+00j,\n",
       "         5.07453702e-03 +0.00000000e+00j,\n",
       "         4.47372286e-03 +0.00000000e+00j,\n",
       "         4.32543895e-03 +0.00000000e+00j,\n",
       "         4.22006582e-03 +0.00000000e+00j,\n",
       "         3.97065729e-03 +0.00000000e+00j,\n",
       "         3.75292740e-03 +0.00000000e+00j,\n",
       "         3.64861290e-03 +0.00000000e+00j,\n",
       "         3.38915810e-03 +0.00000000e+00j,\n",
       "         3.27965962e-03 +0.00000000e+00j,\n",
       "         3.06633825e-03 +0.00000000e+00j,\n",
       "         2.99206786e-03 +0.00000000e+00j,\n",
       "         2.83586784e-03 +0.00000000e+00j,\n",
       "         2.74987243e-03 +0.00000000e+00j,\n",
       "         2.31066313e-03 +0.00000000e+00j,\n",
       "         2.26782347e-03 +0.00000000e+00j,\n",
       "         1.82206662e-03 +0.00000000e+00j,\n",
       "         1.74955624e-03 +0.00000000e+00j,\n",
       "         1.69305161e-03 +0.00000000e+00j,\n",
       "         1.66624597e-03 +0.00000000e+00j,\n",
       "         1.55346749e-03 +0.00000000e+00j,\n",
       "         1.51278404e-03 +0.00000000e+00j,\n",
       "         1.47296801e-03 +0.00000000e+00j,\n",
       "         1.33617458e-03 +0.00000000e+00j,\n",
       "         1.30517592e-03 +0.00000000e+00j,\n",
       "         1.24056353e-03 +0.00000000e+00j,\n",
       "         1.19823961e-03 +0.00000000e+00j,\n",
       "         1.14381059e-03 +0.00000000e+00j,\n",
       "         1.13027458e-03 +0.00000000e+00j,\n",
       "         1.11081803e-03 +0.00000000e+00j,\n",
       "         1.08359152e-03 +0.00000000e+00j,\n",
       "         1.03517496e-03 +0.00000000e+00j,\n",
       "         1.00164593e-03 +0.00000000e+00j,\n",
       "         9.50024605e-04 +0.00000000e+00j,\n",
       "         8.94981182e-04 +0.00000000e+00j,\n",
       "         8.74363843e-04 +0.00000000e+00j,\n",
       "         7.98497545e-04 +0.00000000e+00j,\n",
       "         7.51612221e-04 +0.00000000e+00j,\n",
       "         6.63964303e-04 +0.00000000e+00j,\n",
       "         6.21097652e-04 +0.00000000e+00j,\n",
       "         6.18098606e-04 +0.00000000e+00j,\n",
       "         5.72611406e-04 +0.00000000e+00j,\n",
       "         5.57509231e-04 +0.00000000e+00j,\n",
       "         5.47002382e-04 +0.00000000e+00j,\n",
       "         5.27195077e-04 +0.00000000e+00j,\n",
       "         5.11487997e-04 +0.00000000e+00j,\n",
       "         4.87787872e-04 +0.00000000e+00j,\n",
       "         4.74249071e-04 +0.00000000e+00j,\n",
       "         4.52367688e-04 +0.00000000e+00j,\n",
       "         4.24431102e-04 +0.00000000e+00j,\n",
       "         4.19119025e-04 +0.00000000e+00j,\n",
       "         3.72489905e-04 +0.00000000e+00j,\n",
       "         3.34002143e-04 +0.00000000e+00j,\n",
       "         3.38125455e-04 +0.00000000e+00j,\n",
       "         2.97951371e-04 +0.00000000e+00j,\n",
       "         2.84845900e-04 +0.00000000e+00j,\n",
       "         2.79038288e-04 +0.00000000e+00j,\n",
       "         2.77054476e-04 +0.00000000e+00j,\n",
       "         2.67962797e-04 +0.00000000e+00j,\n",
       "         2.54815126e-04 +0.00000000e+00j,\n",
       "         2.29230595e-04 +0.00000000e+00j,\n",
       "         1.99245436e-04 +0.00000000e+00j,\n",
       "         1.90381389e-04 +0.00000000e+00j,\n",
       "         1.84497914e-04 +0.00000000e+00j,\n",
       "         1.77415682e-04 +0.00000000e+00j,\n",
       "         1.68160613e-04 +0.00000000e+00j,\n",
       "         1.63992030e-04 +0.00000000e+00j,\n",
       "         1.58025552e-04 +0.00000000e+00j,\n",
       "         1.54226002e-04 +0.00000000e+00j,\n",
       "         1.40079891e-04 +0.00000000e+00j,\n",
       "         1.46097433e-04 +0.00000000e+00j,\n",
       "         1.46890640e-04 +0.00000000e+00j,\n",
       "         1.35736724e-04 +0.00000000e+00j,\n",
       "         1.22704034e-04 +0.00000000e+00j,\n",
       "         1.16752515e-04 +0.00000000e+00j,\n",
       "         1.14080848e-04 +0.00000000e+00j,\n",
       "         1.04252870e-04 +0.00000000e+00j,\n",
       "         9.90265112e-05 +0.00000000e+00j,\n",
       "         9.66039063e-05 +0.00000000e+00j,\n",
       "         9.60766568e-05 +0.00000000e+00j,\n",
       "         9.16166331e-05 +0.00000000e+00j,\n",
       "         9.07003482e-05 +0.00000000e+00j,\n",
       "         8.60212635e-05 +0.00000000e+00j,\n",
       "         8.32654025e-05 +0.00000000e+00j,\n",
       "         7.70526077e-05 +0.00000000e+00j,\n",
       "         7.36470022e-05 +0.00000000e+00j,\n",
       "         7.24998305e-05 +0.00000000e+00j,\n",
       "         6.80209910e-05 +0.00000000e+00j,\n",
       "         6.68682705e-05 +0.00000000e+00j,\n",
       "         6.14500433e-05 +0.00000000e+00j,\n",
       "         5.99843180e-05 +0.00000000e+00j,\n",
       "         5.49918005e-05 +0.00000000e+00j,\n",
       "         5.24646954e-05 +0.00000000e+00j,\n",
       "         5.13403846e-05 +0.00000000e+00j,\n",
       "         5.02336260e-05 +0.00000000e+00j,\n",
       "         4.89288501e-05 +0.00000000e+00j,\n",
       "         4.51104473e-05 +0.00000000e+00j,\n",
       "         4.29823762e-05 +0.00000000e+00j,\n",
       "         4.18869714e-05 +0.00000000e+00j,\n",
       "         4.14341563e-05 +0.00000000e+00j,\n",
       "         3.94822840e-05 +0.00000000e+00j,\n",
       "         3.80307293e-05 +0.00000000e+00j,\n",
       "         3.57776535e-05 +0.00000000e+00j,\n",
       "         3.43901590e-05 +0.00000000e+00j,\n",
       "         2.98089203e-05 +0.00000000e+00j,\n",
       "         2.72388358e-05 +0.00000000e+00j,\n",
       "         2.42608885e-05 +0.00000000e+00j,\n",
       "         2.30962279e-05 +0.00000000e+00j,\n",
       "         2.27807559e-05 +0.00000000e+00j,\n",
       "         2.14440814e-05 +0.00000000e+00j,\n",
       "         1.66549051e-05 +0.00000000e+00j,\n",
       "         1.96208174e-05 +0.00000000e+00j,\n",
       "         1.91217363e-05 +0.00000000e+00j,\n",
       "         1.88276186e-05 +0.00000000e+00j,\n",
       "         1.46846459e-05 +0.00000000e+00j,\n",
       "         1.43753346e-05 +0.00000000e+00j,\n",
       "         1.39779892e-05 +0.00000000e+00j,\n",
       "         1.21760519e-05 +0.00000000e+00j,\n",
       "         1.20295835e-05 +0.00000000e+00j,\n",
       "         1.13426750e-05 +0.00000000e+00j,\n",
       "         1.09258905e-05 +0.00000000e+00j,\n",
       "         1.02782995e-05 +0.00000000e+00j,\n",
       "         1.01021814e-05 +0.00000000e+00j,\n",
       "         9.72678804e-06 +0.00000000e+00j,\n",
       "         9.64538313e-06 +0.00000000e+00j,\n",
       "         9.23630211e-06 +0.00000000e+00j,\n",
       "         8.93991861e-06 +0.00000000e+00j,\n",
       "         8.34248064e-06 +0.00000000e+00j,\n",
       "         7.36188602e-06 +0.00000000e+00j,\n",
       "         7.20354829e-06 +0.00000000e+00j,\n",
       "         6.69282814e-06 +0.00000000e+00j,\n",
       "         6.49477814e-06 +0.00000000e+00j,\n",
       "         5.09342485e-06 +0.00000000e+00j,\n",
       "         5.31392220e-06 +0.00000000e+00j,\n",
       "         5.67034893e-06 +0.00000000e+00j,\n",
       "         5.91044560e-06 +0.00000000e+00j,\n",
       "         6.00244890e-06 +0.00000000e+00j,\n",
       "         4.45482134e-06 +0.00000000e+00j,\n",
       "         4.65422047e-06 +0.00000000e+00j,\n",
       "         4.11265577e-06 +0.00000000e+00j,\n",
       "         3.77558985e-06 +0.00000000e+00j,\n",
       "         3.65202837e-06 +0.00000000e+00j,\n",
       "         3.48065952e-06 +0.00000000e+00j,\n",
       "         2.78847700e-06 +0.00000000e+00j,\n",
       "         2.66299629e-06 +0.00000000e+00j,\n",
       "         2.57492503e-06 +0.00000000e+00j,\n",
       "         2.39210233e-06 +0.00000000e+00j,\n",
       "         2.06298821e-06 +0.00000000e+00j,\n",
       "         2.00824521e-06 +0.00000000e+00j,\n",
       "         1.76373602e-06 +0.00000000e+00j,\n",
       "         1.58273270e-06 +0.00000000e+00j,\n",
       "         1.32211395e-06 +0.00000000e+00j,\n",
       "         1.49813697e-06 +0.00000000e+00j,\n",
       "         1.44003525e-06 +0.00000000e+00j,\n",
       "         1.42489429e-06 +0.00000000e+00j,\n",
       "         1.10002716e-06 +0.00000000e+00j,\n",
       "         9.01008863e-07 +0.00000000e+00j,\n",
       "         8.49881107e-07 +0.00000000e+00j,\n",
       "         7.62521869e-07 +0.00000000e+00j,\n",
       "         6.57641103e-07 +0.00000000e+00j,\n",
       "         5.85636640e-07 +0.00000000e+00j,\n",
       "         5.33937361e-07 +0.00000000e+00j,\n",
       "         4.16077216e-07 +0.00000000e+00j,\n",
       "         3.33765859e-07 +0.00000000e+00j,\n",
       "         2.95575265e-07 +0.00000000e+00j,\n",
       "         2.54744632e-07 +0.00000000e+00j,\n",
       "         2.20144574e-07 +0.00000000e+00j,\n",
       "         1.86314535e-07 +0.00000000e+00j,\n",
       "         1.77370973e-07 +0.00000000e+00j,\n",
       "         1.54794346e-07 +0.00000000e+00j,\n",
       "         1.47331690e-07 +0.00000000e+00j,\n",
       "         1.39738552e-07 +0.00000000e+00j,\n",
       "         1.04110968e-07 +0.00000000e+00j,\n",
       "         1.00786519e-07 +0.00000000e+00j,\n",
       "         9.38635090e-08 +0.00000000e+00j,\n",
       "         9.10853314e-08 +0.00000000e+00j,\n",
       "         8.71546322e-08 +0.00000000e+00j,\n",
       "         7.48338889e-08 +0.00000000e+00j,\n",
       "         6.06817435e-08 +0.00000000e+00j,\n",
       "         5.66479201e-08 +0.00000000e+00j,\n",
       "         5.24576911e-08 +0.00000000e+00j,\n",
       "         4.57020642e-08 +0.00000000e+00j,\n",
       "         2.89942625e-08 +0.00000000e+00j,\n",
       "         2.60449440e-08 +0.00000000e+00j,\n",
       "         2.10987989e-08 +0.00000000e+00j,\n",
       "         2.17618741e-08 +0.00000000e+00j,\n",
       "         1.75542294e-08 +0.00000000e+00j,\n",
       "         1.34637029e-08 +0.00000000e+00j,\n",
       "         1.27167434e-08 +0.00000000e+00j,\n",
       "         1.23258199e-08 +0.00000000e+00j,\n",
       "         9.86367937e-09 +0.00000000e+00j,\n",
       "         8.49421328e-09 +0.00000000e+00j,\n",
       "         9.33428154e-09 +0.00000000e+00j,\n",
       "         7.42189084e-09 +0.00000000e+00j,\n",
       "         1.04987514e-08 +0.00000000e+00j,\n",
       "         6.46870553e-09 +0.00000000e+00j,\n",
       "         6.84633773e-09 +0.00000000e+00j,\n",
       "         5.76455836e-09 +0.00000000e+00j,\n",
       "         5.01137810e-09 +0.00000000e+00j,\n",
       "         3.48686582e-09 +0.00000000e+00j,\n",
       "         2.91267157e-09 +0.00000000e+00j,\n",
       "         2.77880627e-09 +0.00000000e+00j,\n",
       "         1.73093445e-09 +0.00000000e+00j,\n",
       "         1.42391232e-09 +0.00000000e+00j,\n",
       "         1.16455085e-09 +0.00000000e+00j,\n",
       "         1.11815939e-09 +0.00000000e+00j,\n",
       "         9.24977831e-10 +0.00000000e+00j,\n",
       "         6.95074681e-10 +0.00000000e+00j,\n",
       "         6.13386460e-10 +0.00000000e+00j,\n",
       "         1.80003548e-10 +0.00000000e+00j,\n",
       "         2.61889995e-10 +0.00000000e+00j,\n",
       "         5.27630125e-10 +0.00000000e+00j,\n",
       "         1.97062322e-10 +0.00000000e+00j,\n",
       "         7.31935115e-18 +0.00000000e+00j,\n",
       "        -7.10384466e-18 +0.00000000e+00j,\n",
       "         3.53795280e-15 +0.00000000e+00j,\n",
       "        -8.62202571e-16 +1.12035211e-15j,\n",
       "        -8.62202571e-16 -1.12035211e-15j,\n",
       "         0.00000000e+00 +0.00000000e+00j,\n",
       "         0.00000000e+00 +0.00000000e+00j,\n",
       "         0.00000000e+00 +0.00000000e+00j,\n",
       "         0.00000000e+00 +0.00000000e+00j,\n",
       "         0.00000000e+00 +0.00000000e+00j,\n",
       "         0.00000000e+00 +0.00000000e+00j,\n",
       "         0.00000000e+00 +0.00000000e+00j,\n",
       "         0.00000000e+00 +0.00000000e+00j,\n",
       "         0.00000000e+00 +0.00000000e+00j,\n",
       "         0.00000000e+00 +0.00000000e+00j,\n",
       "         0.00000000e+00 +0.00000000e+00j,\n",
       "         0.00000000e+00 +0.00000000e+00j,\n",
       "         0.00000000e+00 +0.00000000e+00j,\n",
       "         0.00000000e+00 +0.00000000e+00j,\n",
       "         0.00000000e+00 +0.00000000e+00j,\n",
       "         0.00000000e+00 +0.00000000e+00j,\n",
       "         0.00000000e+00 +0.00000000e+00j,\n",
       "         0.00000000e+00 +0.00000000e+00j,\n",
       "         0.00000000e+00 +0.00000000e+00j,\n",
       "         0.00000000e+00 +0.00000000e+00j,\n",
       "         0.00000000e+00 +0.00000000e+00j,\n",
       "         0.00000000e+00 +0.00000000e+00j,\n",
       "         0.00000000e+00 +0.00000000e+00j,\n",
       "         0.00000000e+00 +0.00000000e+00j,\n",
       "         0.00000000e+00 +0.00000000e+00j,\n",
       "         0.00000000e+00 +0.00000000e+00j,\n",
       "         0.00000000e+00 +0.00000000e+00j,\n",
       "         0.00000000e+00 +0.00000000e+00j,\n",
       "         0.00000000e+00 +0.00000000e+00j,\n",
       "         0.00000000e+00 +0.00000000e+00j,\n",
       "         0.00000000e+00 +0.00000000e+00j,\n",
       "         0.00000000e+00 +0.00000000e+00j,\n",
       "         0.00000000e+00 +0.00000000e+00j,\n",
       "         0.00000000e+00 +0.00000000e+00j,\n",
       "         0.00000000e+00 +0.00000000e+00j,\n",
       "         0.00000000e+00 +0.00000000e+00j,\n",
       "         0.00000000e+00 +0.00000000e+00j,\n",
       "         0.00000000e+00 +0.00000000e+00j,\n",
       "         0.00000000e+00 +0.00000000e+00j,\n",
       "         0.00000000e+00 +0.00000000e+00j,\n",
       "         0.00000000e+00 +0.00000000e+00j,\n",
       "         0.00000000e+00 +0.00000000e+00j,\n",
       "         0.00000000e+00 +0.00000000e+00j,\n",
       "         0.00000000e+00 +0.00000000e+00j,\n",
       "         0.00000000e+00 +0.00000000e+00j,\n",
       "         0.00000000e+00 +0.00000000e+00j,\n",
       "         0.00000000e+00 +0.00000000e+00j,\n",
       "         0.00000000e+00 +0.00000000e+00j,\n",
       "         0.00000000e+00 +0.00000000e+00j,\n",
       "         0.00000000e+00 +0.00000000e+00j,\n",
       "         0.00000000e+00 +0.00000000e+00j,\n",
       "         0.00000000e+00 +0.00000000e+00j,\n",
       "         0.00000000e+00 +0.00000000e+00j,\n",
       "         0.00000000e+00 +0.00000000e+00j,\n",
       "         0.00000000e+00 +0.00000000e+00j,\n",
       "         0.00000000e+00 +0.00000000e+00j,\n",
       "         0.00000000e+00 +0.00000000e+00j,\n",
       "         0.00000000e+00 +0.00000000e+00j,\n",
       "         0.00000000e+00 +0.00000000e+00j,\n",
       "         0.00000000e+00 +0.00000000e+00j,\n",
       "         0.00000000e+00 +0.00000000e+00j,\n",
       "         0.00000000e+00 +0.00000000e+00j,\n",
       "         0.00000000e+00 +0.00000000e+00j,\n",
       "         0.00000000e+00 +0.00000000e+00j,\n",
       "         0.00000000e+00 +0.00000000e+00j,\n",
       "         0.00000000e+00 +0.00000000e+00j,\n",
       "         0.00000000e+00 +0.00000000e+00j,\n",
       "         0.00000000e+00 +0.00000000e+00j,\n",
       "         0.00000000e+00 +0.00000000e+00j,\n",
       "         0.00000000e+00 +0.00000000e+00j,\n",
       "         0.00000000e+00 +0.00000000e+00j,\n",
       "         0.00000000e+00 +0.00000000e+00j,\n",
       "         0.00000000e+00 +0.00000000e+00j,\n",
       "         0.00000000e+00 +0.00000000e+00j,\n",
       "         0.00000000e+00 +0.00000000e+00j,\n",
       "         0.00000000e+00 +0.00000000e+00j,\n",
       "         0.00000000e+00 +0.00000000e+00j,\n",
       "         0.00000000e+00 +0.00000000e+00j,\n",
       "         0.00000000e+00 +0.00000000e+00j,\n",
       "         0.00000000e+00 +0.00000000e+00j,\n",
       "         0.00000000e+00 +0.00000000e+00j,\n",
       "         0.00000000e+00 +0.00000000e+00j,\n",
       "         0.00000000e+00 +0.00000000e+00j,\n",
       "         0.00000000e+00 +0.00000000e+00j,\n",
       "         0.00000000e+00 +0.00000000e+00j,\n",
       "         0.00000000e+00 +0.00000000e+00j,\n",
       "         0.00000000e+00 +0.00000000e+00j,\n",
       "         0.00000000e+00 +0.00000000e+00j,\n",
       "         0.00000000e+00 +0.00000000e+00j,\n",
       "         0.00000000e+00 +0.00000000e+00j,\n",
       "         0.00000000e+00 +0.00000000e+00j,\n",
       "         0.00000000e+00 +0.00000000e+00j,\n",
       "         0.00000000e+00 +0.00000000e+00j,\n",
       "         0.00000000e+00 +0.00000000e+00j,\n",
       "         0.00000000e+00 +0.00000000e+00j,\n",
       "         0.00000000e+00 +0.00000000e+00j,\n",
       "         0.00000000e+00 +0.00000000e+00j,\n",
       "         0.00000000e+00 +0.00000000e+00j,\n",
       "         0.00000000e+00 +0.00000000e+00j,\n",
       "         0.00000000e+00 +0.00000000e+00j,\n",
       "         0.00000000e+00 +0.00000000e+00j,\n",
       "         0.00000000e+00 +0.00000000e+00j,\n",
       "         0.00000000e+00 +0.00000000e+00j,\n",
       "         0.00000000e+00 +0.00000000e+00j,\n",
       "         0.00000000e+00 +0.00000000e+00j,\n",
       "         0.00000000e+00 +0.00000000e+00j,\n",
       "         0.00000000e+00 +0.00000000e+00j,\n",
       "         0.00000000e+00 +0.00000000e+00j,\n",
       "         0.00000000e+00 +0.00000000e+00j,\n",
       "         0.00000000e+00 +0.00000000e+00j,\n",
       "         0.00000000e+00 +0.00000000e+00j,\n",
       "         0.00000000e+00 +0.00000000e+00j,\n",
       "         0.00000000e+00 +0.00000000e+00j,\n",
       "         0.00000000e+00 +0.00000000e+00j,\n",
       "         0.00000000e+00 +0.00000000e+00j,   0.00000000e+00 +0.00000000e+00j])"
      ]
     },
     "execution_count": 16,
     "metadata": {},
     "output_type": "execute_result"
    }
   ],
   "source": [
    "eigVals\n"
   ]
  },
  {
   "cell_type": "code",
   "execution_count": null,
   "metadata": {
    "collapsed": true,
    "deletable": true,
    "editable": true
   },
   "outputs": [],
   "source": []
  }
 ],
 "metadata": {
  "kernelspec": {
   "display_name": "Python 3",
   "language": "python",
   "name": "python3"
  },
  "language_info": {
   "codemirror_mode": {
    "name": "ipython",
    "version": 3
   },
   "file_extension": ".py",
   "mimetype": "text/x-python",
   "name": "python",
   "nbconvert_exporter": "python",
   "pygments_lexer": "ipython3",
   "version": "3.5.0"
  }
 },
 "nbformat": 4,
 "nbformat_minor": 2
}
